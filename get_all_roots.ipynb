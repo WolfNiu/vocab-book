{
 "cells": [
  {
   "cell_type": "code",
   "execution_count": null,
   "metadata": {},
   "outputs": [],
   "source": [
    "# !jupyter nbconvert --to script util.ipynb"
   ]
  },
  {
   "cell_type": "code",
   "execution_count": 1,
   "metadata": {},
   "outputs": [],
   "source": [
    "from util import read_lines, write_lines, get_driver\n",
    "from tqdm import tqdm\n",
    "import random\n",
    "from nltk import FreqDist\n",
    "from collections import defaultdict"
   ]
  },
  {
   "cell_type": "code",
   "execution_count": null,
   "metadata": {},
   "outputs": [],
   "source": [
    "def get_vocab(file):\n",
    "    lines = read_lines(file)\n",
    "#     lines = random.sample(lines, 30)\n",
    "    entries = []\n",
    "    vocab = set()\n",
    "    for line in lines:\n",
    "        split = line.split(\"\\t\")\n",
    "        assert len(split) == 3\n",
    "        entries.append(split)\n",
    "        vocab.add(split[1]) # there could be repeated word with different pos tags\n",
    "    return entries, vocab"
   ]
  },
  {
   "cell_type": "code",
   "execution_count": null,
   "metadata": {},
   "outputs": [],
   "source": [
    "entries, vocab = get_vocab(\"word_freq_list.txt\")\n",
    "\n",
    "driver = get_driver(headless=True)\n",
    "base_url = \"https://www.etymonline.com/word/\""
   ]
  },
  {
   "cell_type": "code",
   "execution_count": null,
   "metadata": {},
   "outputs": [],
   "source": [
    "def get_roots(word):\n",
    "    url = base_url + word\n",
    "    driver.get(url)\n",
    "    \n",
    "    print(\"current url:\", url)\n",
    "\n",
    "    related_entries = driver.find_elements_by_xpath(\n",
    "        \"//a[@target='_self']\")\n",
    "    related_words = [\n",
    "        entry.get_attribute('title').split()[-1] \n",
    "        for entry in related_entries]\n",
    "    related_roots = [\n",
    "        word for word in related_words \n",
    "        if word.startswith('*') and word.endswith('-')]\n",
    "    if related_roots == []:\n",
    "        candidate_lemmas = [\n",
    "            related_word for related_word in related_words\n",
    "            if (not related_word.startswith('-')\n",
    "                and not related_word.endswith('-')\n",
    "                and related_word[:(-1)] in word\n",
    "                and len(related_word) < len(word))]\n",
    "        if candidate_lemmas != []:\n",
    "            related_roots = get_roots(\n",
    "                max(candidate_lemmas, key=len)) # get the longest one\n",
    "    \n",
    "    return related_roots   "
   ]
  },
  {
   "cell_type": "code",
   "execution_count": null,
   "metadata": {},
   "outputs": [],
   "source": [
    "root_dict = {}\n",
    "for word in tqdm(vocab):\n",
    "    print(word)\n",
    "    try:\n",
    "        roots = get_roots(word)\n",
    "        root_dict[word] = roots\n",
    "    except:\n",
    "        print(f\"Couldn't find word {word}.\")\n",
    "        continue"
   ]
  },
  {
   "cell_type": "code",
   "execution_count": null,
   "metadata": {},
   "outputs": [],
   "source": [
    "lines = []\n",
    "for entry in entries:\n",
    "    line = '\\t'.join(\n",
    "        entry + [', '.join(root_dict[entry[1]])])\n",
    "    lines.append(line)\n",
    "write_lines('word_freq_list_with_roots.txt', lines)\n",
    "driver.quit()"
   ]
  }
 ],
 "metadata": {
  "kernelspec": {
   "display_name": "Python 3",
   "language": "python",
   "name": "python3"
  },
  "language_info": {
   "codemirror_mode": {
    "name": "ipython",
    "version": 3
   },
   "file_extension": ".py",
   "mimetype": "text/x-python",
   "name": "python",
   "nbconvert_exporter": "python",
   "pygments_lexer": "ipython3",
   "version": "3.7.6"
  }
 },
 "nbformat": 4,
 "nbformat_minor": 2
}
