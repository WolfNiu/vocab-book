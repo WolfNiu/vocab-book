{
 "cells": [
  {
   "cell_type": "code",
   "execution_count": 13,
   "metadata": {},
   "outputs": [],
   "source": [
    "\"\"\"\n",
    "Credit: \n",
    "    Min-set-cover solver: https://gist.github.com/marekyggdrasil/a8e63be8e34e000f2507bdb5e0755dda\n",
    "\"\"\"\n",
    "\n",
    "from util import read_lines, write_lines\n",
    "from nltk import FreqDist\n",
    "from collections import defaultdict\n",
    "from dlx import DLX"
   ]
  },
  {
   "cell_type": "code",
   "execution_count": 4,
   "metadata": {},
   "outputs": [
    {
     "name": "stdout",
     "output_type": "stream",
     "text": [
      "Done reading file word_freq_list_with_roots.txt\n"
     ]
    }
   ],
   "source": [
    "lines = read_lines(\"word_freq_list_with_roots.txt\")\n",
    "\n",
    "all_roots = []\n",
    "entries = []\n",
    "for line in lines:\n",
    "    split = line.split('\\t')\n",
    "    if len(split) == 4:\n",
    "        roots = split[-1].split(', ')\n",
    "        all_roots.extend(roots)\n",
    "        split[-1] = roots\n",
    "    else:\n",
    "        roots = []\n",
    "        split.append(roots)\n",
    "    entries.append(split)\n",
    "\n",
    "dist = dict(FreqDist(all_roots).most_common())\n",
    "vocab_roots = list(dist.keys())\n",
    "root2idx = {root: idx for idx, root in enumerate(vocab_roots)}\n",
    "\n",
    "root2entries = defaultdict(list)\n",
    "for entry in entries:\n",
    "    roots = entry[-1]\n",
    "    for root in roots:\n",
    "        root2entries[root].append(entry)\n",
    "\n",
    "# for root in dist:\n",
    "#     print(root)\n",
    "#     print(\"\")\n",
    "#     print(root2entries[root])\n",
    "#     input(\"wait\")"
   ]
  },
  {
   "cell_type": "code",
   "execution_count": 10,
   "metadata": {},
   "outputs": [],
   "source": [
    "def genInstance(labels, rows) :\n",
    "    columns = []\n",
    "    indices_l = {}\n",
    "    for i in range(len(labels)) :\n",
    "        label = labels[i]\n",
    "        indices_l[label] = i\n",
    "        columns.append(tuple([label,0]))\n",
    "    return labels, rows, columns, indices_l\n",
    "\n",
    "def solveInstance(instance) :\n",
    "    labels, rows, columns, indices_l = instance\n",
    "    instance = DLX(columns)\n",
    "    indices = {}\n",
    "    for l, i in zip(rows, range(len(rows))) :\n",
    "        h = instance.appendRow(l, 'r'+str(i))\n",
    "        indices[str(hash(tuple(sorted(l))))] = i\n",
    "    sol = instance.solve()\n",
    "    lst = list(sol)\n",
    "    selected = []\n",
    "    for i in lst[0] :\n",
    "        l = instance.getRowList(i)\n",
    "        l2 = [indices_l[label] for label in l]\n",
    "        idx = indices[str(hash(tuple(sorted(l2))))]\n",
    "        selected.append(idx)\n",
    "    return selected\n",
    "\n",
    "def printColumnsPerRow(instance, selected) :\n",
    "    labels, rows, columns, indices_l = instance\n",
    "    print('covered columns per selected row')\n",
    "    for s in selected :\n",
    "        A = []\n",
    "        for z in rows[s-1] :\n",
    "            c, _ = columns[z]\n",
    "            A.append(c)\n",
    "        print(s, A)\n",
    "\n",
    "def printInstance(instance) :\n",
    "    labels, rows, columns, indices_l = instance\n",
    "    print('columns')\n",
    "    print(labels)\n",
    "    print('rows')\n",
    "    print(rows)"
   ]
  },
  {
   "cell_type": "code",
   "execution_count": 11,
   "metadata": {},
   "outputs": [],
   "source": [
    "labels = vocab_roots\n",
    "rows = [\n",
    "    [root2idx[root] \n",
    "     for root in entry[-1]]\n",
    "    for entry in entries\n",
    "    if entry[-1] != []]"
   ]
  },
  {
   "cell_type": "code",
   "execution_count": 14,
   "metadata": {},
   "outputs": [
    {
     "name": "stderr",
     "output_type": "stream",
     "text": [
      "\n",
      "KeyboardInterrupt\n",
      "\n"
     ]
    }
   ],
   "source": [
    "# labels = ['A', 'B', 'C', 'D', 'E', 'F', 'G']\n",
    "# rows = [[0,3,6],[0,3],[3,4,6],[2,4,5],[1,2,5,6],[1,6]]\n",
    "instance = genInstance(labels, rows)\n",
    "selected = solveInstance(instance)\n",
    "printInstance(instance)\n",
    "printColumnsPerRow(instance, selected)"
   ]
  },
  {
   "cell_type": "code",
   "execution_count": null,
   "metadata": {},
   "outputs": [],
   "source": []
  }
 ],
 "metadata": {
  "kernelspec": {
   "display_name": "Python 3",
   "language": "python",
   "name": "python3"
  },
  "language_info": {
   "codemirror_mode": {
    "name": "ipython",
    "version": 3
   },
   "file_extension": ".py",
   "mimetype": "text/x-python",
   "name": "python",
   "nbconvert_exporter": "python",
   "pygments_lexer": "ipython3",
   "version": "3.7.2"
  }
 },
 "nbformat": 4,
 "nbformat_minor": 2
}
