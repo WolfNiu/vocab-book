{
 "cells": [
  {
   "cell_type": "code",
   "execution_count": 1,
   "metadata": {},
   "outputs": [],
   "source": [
    "# !jupyter nbconvert --to script util.ipynb"
   ]
  },
  {
   "cell_type": "code",
   "execution_count": 12,
   "metadata": {},
   "outputs": [],
   "source": [
    "from util import read_lines, write_lines, get_driver\n",
    "from tqdm import tqdm\n",
    "import random\n",
    "from nltk import FreqDist\n",
    "from collections import defaultdict"
   ]
  },
  {
   "cell_type": "code",
   "execution_count": 15,
   "metadata": {
    "scrolled": false
   },
   "outputs": [
    {
     "name": "stdout",
     "output_type": "stream",
     "text": [
      "Done reading file word_freq_list_with_roots.txt\n",
      "[['13', 'for', 'i', ['*per-']], ['26', 'from', 'i', ['*per-']], ['86', 'first', 'm', ['*per-']], ['171', 'problem', 'n', ['*gwele-', '*per-']], ['193', 'right', 'r', ['*per-', '*reg-']], ['220', 'before', 'i', ['*per-']], ['240', 'right', 'n', ['*per-', '*reg-']], ['253', 'far', 'r', ['*per-']], ['263', 'provide', 'v', ['*per-', '*weid-']], ['267', 'important', 'j', ['*per-']], ['318', 'right', 'j', ['*per-', '*reg-']], ['368', 'before', 'c', ['*per-']], ['399', 'probably', 'r', ['*per-']], ['421', 'experience', 'n', ['*per-']], ['436', 'perhaps', 'r', ['*per-']], ['443', 'former', 'd', ['*per-']], ['451', 'report', 'v', ['*per-']], ['476', 'price', 'n', ['*per-']], ['477', 'report', 'n', ['*per-']], ['525', 'support', 'v', ['*per-']], ['535', 'project', 'n', ['*per-', '*ye-']], ['543', 'produce', 'v', ['*deuk-', '*per-']], ['583', 'support', 'n', ['*per-']], ['626', 'opportunity', 'n', ['*per-']], ['666', 'sport', 'n', ['*per-']], ['669', 'per', 'i', ['*per-']], ['672', 'private', 'j', ['*per-']], ['676', 'performance', 'n', ['*per-']], ['706', 'before', 'r', ['*per-']], ['750', 'protect', 'v', ['*(s)teg-', '*per-']], ['751', 'approach', 'n', ['*per-']], ['766', 'pressure', 'n', ['*per-']], ['818', 'forward', 'r', ['*per-']], ['834', 'compare', 'v', ['*per-']], ['869', 'prove', 'v', ['*per-']], ['902', 'expert', 'n', ['*per-']], ['955', 'perform', 'v', ['*per-']], ['977', 'far', 'j', ['*per-']], ['988', 'fear', 'n', ['*per-']], ['996', 'property', 'n', ['*per-']], ['998', 'improve', 'v', ['*es-', '*per-']], ['1163', 'perfect', 'j', ['*dhe-', '*per-']], ['1182', 'press', 'n', ['*per-', '*sta-']], ['1185', 'experience', 'v', ['*per-']], ['1279', 'express', 'v', ['*per-']], ['1294', 'reporter', 'n', ['*per-']], ['1348', 'principle', 'n', ['*kap-', '*per-']], ['1374', 'approach', 'v', ['*per-']], ['1419', 'perspective', 'n', ['*per-', '*spek-']], ['1444', 'promise', 'v', ['*per-']], ['1494', 'pair', 'n', ['*per-']], ['1502', 'appropriate', 'j', ['*per-']], ['1513', 'primary', 'j', ['*per-']], ['1538', 'press', 'v', ['*per-', '*sta-']], ['1542', 'expression', 'n', ['*per-']], ['1582', 'importance', 'n', ['*per-']], ['1670', 'fear', 'v', ['*per-']], ['1677', 'prime', 'j', ['*per-']], ['1716', 'profit', 'n', ['*dhe-', '*per-']], ['1751', 'appreciate', 'v', ['*per-']], ['1780', 'airport', 'n', ['*per-']], ['1801', 'percentage', 'n', ['*dekm-', '*per-']], ['1847', 'forth', 'r', ['*per-']], ['1848', 'frame', 'n', ['*per-']], ['1859', 'producer', 'n', ['*deuk-', '*per-']], ['1860', 'afford', 'v', ['*per-']], ['1947', 'welfare', 'n', ['*per-']], ['1952', 'improvement', 'n', ['*es-', '*per-']], ['1996', 'proud', 'j', ['*es-', '*per-']], ['2004', 'experiment', 'n', ['*per-']], ['2016', 'promise', 'n', ['*per-']], ['2064', 'first', 'r', ['*per-']], ['2070', 'approve', 'v', ['*per-']], ['2075', 'proper', 'j', ['*per-']], ['2113', 'depression', 'n', ['*per-']], ['2127', 'permit', 'v', ['*per-']], ['2130', 'priority', 'n', ['*per-']], ['2168', 'purchase', 'v', ['*kap-', '*per-']], ['2185', 'comparison', 'n', ['*per-']], ['2189', 'far', 'c', ['*per-']], ['2228', 'print', 'n', ['*per-']], ['2313', 'priest', 'n', ['*per-']], ['2339', 'for', 'c', ['*per-']], ['2386', 'approximately', 'r', ['*per-']], ['2395', 'transportation', 'n', ['*per-']], ['2401', 'interpretation', 'n', ['*per-']], ['2457', 'perfectly', 'r', ['*dhe-', '*per-']], ['2459', 'supporter', 'n', ['*per-']], ['2486', 'permanent', 'j', ['*men-', '*per-']], ['2545', 'protein', 'n', ['*per-']], ['2559', 'impression', 'n', ['*per-']], ['2572', 'approval', 'n', ['*per-']], ['2652', 'pregnant', 'j', ['*gene-', '*per-']], ['2677', 'portrait', 'n', ['*per-']], ['2691', 'furniture', 'n', ['*per-']], ['2699', 'profile', 'n', ['*gwhi-', '*per-']], ['2720', 'proceed', 'v', ['*ked-', '*per-']], ['2741', 'port', 'n', ['*per-']], ['2783', 'interpret', 'v', ['*per-']], ['2825', 'pride', 'n', ['*per-']], ['2858', 'protest', 'n', ['*per-']], ['2879', 'prior', 'i', ['*per-']], ['2887', 'proof', 'n', ['*per-']], ['2993', 'framework', 'n', ['*per-']], ['3067', 'porch', 'n', ['*per-']], ['3081', 'impress', 'v', ['*per-']], ['3114', 'purchase', 'n', ['*kap-', '*per-']], ['3129', 'provider', 'n', ['*per-', '*weid-']], ['3142', 'prompt', 'v', ['*em-', '*per-']], ['3149', 'principal', 'n', ['*kap-', '*per-']], ['3177', 'print', 'v', ['*per-']], ['3242', 'furthermore', 'r', ['*per-']], ['3261', 'permission', 'n', ['*per-']], ['3286', 'impressive', 'j', ['*per-']], ['3290', 'portray', 'v', ['*per-']], ['3334', 'principal', 'j', ['*kap-', '*per-']], ['3356', 'pregnancy', 'n', ['*gene-', '*per-']], ['3488', 'export', 'n', ['*per-']], ['3489', 'experimental', 'j', ['*per-']], ['3601', 'protest', 'v', ['*per-']], ['3633', 'project', 'v', ['*per-', '*ye-']], ['3647', 'privilege', 'n', ['*leg-', '*per-']], ['3754', 'praise', 'v', ['*per-']], ['3771', 'profound', 'j', ['*per-']], ['3787', 'compromise', 'n', ['*per-']], ['3845', 'portfolio', 'n', ['*bhel-', '*per-']], ['3879', 'provided', 'c', ['*per-', '*weid-']], ['3881', 'promising', 'j', ['*per-']], ['3891', 'frame', 'v', ['*per-']], ['3899', 'primary', 'n', ['*per-']], ['3936', 'expertise', 'n', ['*per-']], ['4001', 'performer', 'n', ['*per-']], ['4006', 'productive', 'j', ['*deuk-', '*per-']], ['4028', 'precious', 'j', ['*per-']], ['4087', 'import', 'n', ['*per-']], ['4097', 'pro', 'n', ['*per-']], ['4153', 'protective', 'j', ['*(s)teg-', '*per-']], ['4197', 'productivity', 'n', ['*deuk-', '*per-']], ['4239', 'prior', 'j', ['*per-']], ['4365', 'appreciation', 'n', ['*per-']], ['4379', 'experienced', 'j', ['*per-']], ['4397', 'persist', 'v', ['*per-', '*sta-']], ['4431', 'pro', 'j', ['*per-']], ['4504', 'proclaim', 'v', ['*kele-', '*per-']], ['4537', 'protocol', 'n', ['*per-']], ['4551', 'depressed', 'j', ['*per-']], ['4569', 'supportive', 'j', ['*per-']], ['4692', 'comparable', 'j', ['*per-']], ['4693', 'transport', 'v', ['*per-']], ['4707', 'compromise', 'v', ['*per-']], ['4732', 'formerly', 'r', ['*per-']], ['4809', 'projection', 'n', ['*per-', '*ye-']], ['4830', 'fare', 'n', ['*per-']], ['4840', 'permit', 'n', ['*per-']], ['4867', 'preach', 'v', ['*deik-', '*per-']], ['4872', 'provoke', 'v', ['*per-', '*wekw-']], ['4879', 'transport', 'n', ['*per-']], ['4982', 'praise', 'n', ['*per-']], ['5018', 'suppress', 'v', ['*per-']], ['5044', 'reproduce', 'v', ['*deuk-', '*per-']], ['5107', 'inappropriate', 'j', ['*per-']], ['5128', 'warfare', 'n', ['*per-']], ['5213', 'experiment', 'v', ['*per-']], ['5241', 'probe', 'n', ['*per-']], ['5303', 'affordable', 'j', ['*per-']], ['5309', 'price', 'v', ['*per-']], ['5337', 'persistent', 'j', ['*per-', '*sta-']], ['5356', 'empirical', 'j', ['*per-']], ['5373', 'export', 'v', ['*per-']], ['5420', 'profitable', 'j', ['*dhe-', '*per-']], ['5436', 'proceedings', 'n', ['*ked-', '*per-']], ['5507', 'portable', 'j', ['*per-']], ['5531', 'import', 'v', ['*per-']], ['5533', 'prince', 'n', ['*kap-', '*per-']], ['5632', 'problematic', 'j', ['*gwele-', '*per-']], ['5701', 'interpreter', 'n', ['*per-']], ['5739', 'reproduction', 'n', ['*deuk-', '*per-']], ['5759', 'permanently', 'r', ['*men-', '*per-']], ['5808', 'preacher', 'n', ['*deik-', '*per-']], ['5883', 'primitive', 'j', ['*per-']], ['5890', 'par', 'n', ['*per-']], ['5951', 'reproductive', 'j', ['*deuk-', '*per-']], ['5954', 'printer', 'n', ['*per-']], ['6147', 'copyright', 'n', ['*per-', '*reg-']], ['6225', 'proudly', 'r', ['*es-', '*per-']], ['6282', 'protester', 'n', ['*per-']], ['6290', 'deprive', 'v', ['*per-']], ['6291', 'fearful', 'j', ['*per-']], ['6314', 'prone', 'j', ['*per-']], ['6332', 'passport', 'n', ['*per-', '*pete-']], ['6368', 'comparative', 'j', ['*per-']], ['6388', 'foremost', 'j', ['*per-']], ['6397', 'reported', 'j', ['*per-']], ['6592', 'ferry', 'n', ['*per-']], ['6604', 'perfection', 'n', ['*dhe-', '*per-']], ['6623', 'probe', 'v', ['*per-']], ['6635', 'privileged', 'j', ['*leg-', '*per-']], ['6637', 'sporting', 'j', ['*per-']], ['6693', 'perfume', 'n', ['*dheu-', '*per-']], ['6848', 'forthcoming', 'j', ['*per-']], ['6876', 'forward', 'j', ['*per-']], ['6882', 'pervasive', 'j', ['*per-']], ['6927', 'paradise', 'n', ['*dheigh-', '*per-']], ['6935', 'premiere', 'n', ['*per-']], ['6945', 'oppression', 'n', ['*per-']], ['6949', 'pierce', 'v', ['*per-']], ['7007', 'princess', 'n', ['*kap-', '*per-']], ['7014', 'fare', 'v', ['*per-']], ['7047', 'projected', 'j', ['*per-', '*ye-']], ['7110', 'produce', 'n', ['*deuk-', '*per-']], ['7134', 'appropriate', 'v', ['*per-']], ['7182', 'disparity', 'n', ['*per-']], ['7228', 'pressure', 'v', ['*per-']], ['7276', 'pressing', 'j', ['*per-', '*sta-']], ['7284', 'pornography', 'n', ['*per-']], ['7322', 'pirate', 'n', ['*per-']], ['7335', 'printing', 'n', ['*per-']], ['7465', 'furnish', 'v', ['*per-']], ['7487', 'prostate', 'n', ['*per-', '*sta-']], ['7588', 'prose', 'n', ['*per-', '*wer-']], ['7612', 'persistence', 'n', ['*per-', '*sta-']], ['7615', 'upright', 'r', ['*per-', '*reg-']], ['7642', 'prophet', 'n', ['*bha-', '*per-']], ['7666', 'protagonist', 'n', ['*ag-', '*per-']], ['7707', 'blueprint', 'n', ['*per-']], ['7748', 'sport', 'v', ['*per-']], ['7760', 'premier', 'j', ['*per-']], ['7761', 'peril', 'n', ['*per-']], ['7771', 'rightly', 'r', ['*per-', '*reg-']], ['7796', 'perpetuate', 'v', ['*per-', '*pet-']], ['7805', 'pair', 'v', ['*per-']], ['7818', 'repression', 'n', ['*per-']], ['7839', 'profit', 'v', ['*dhe-', '*per-']], ['7860', 'proven', 'j', ['*per-']], ['7879', 'perfect', 'v', ['*dhe-', '*per-']], ['7899', 'appraisal', 'n', ['*per-']], ['7979', 'pardon', 'n', ['*do-', '*per-']], ['8059', 'proceeds', 'n', ['*ked-', '*per-']], ['8091', 'portrayal', 'n', ['*per-']], ['8146', 'expressive', 'j', ['*per-']], ['8277', 'farewell', 'n', ['*per-']], ['8395', 'pristine', 'j', ['*per-']], ['8408', 'improper', 'j', ['*per-']], ['8540', 'compression', 'n', ['*per-']], ['8583', 'footprint', 'n', ['*per-']], ['8740', 'private', 'r', ['*per-']], ['8769', 'furnishings', 'n', ['*per-']], ['8958', 'perpetual', 'j', ['*per-', '*pet-']], ['9004', 'Presbyterian', 'j', ['*per-']], ['9040', 'persecution', 'n', ['*per-', '*sekw-']], ['9046', 'outright', 'j', ['*per-', '*reg-']], ['9053', 'perennial', 'j', ['*per-']], ['9167', 'fern', 'n', ['*per-']], ['9205', 'experimentation', 'n', ['*per-']], ['9300', 'depressing', 'j', ['*per-']], ['9396', 'per', 'j', ['*per-']], ['9398', 'deprivation', 'n', ['*per-']], ['9413', 'portal', 'n', ['*per-']], ['9450', 'reprint', 'v', ['*per-']], ['9502', 'paramount', 'j', ['*ad-', '*per-']], ['9696', 'perish', 'v', ['*ei-', '*per-']], ['9746', 'compress', 'v', ['*per-']], ['9772', 'persuasion', 'n', ['*per-']], ['9848', 'permeate', 'v', ['*mei-', '*per-']], ['9858', 'pro', 'i', ['*per-']], ['9883', 'oppressive', 'j', ['*per-']], ['9956', 'interpretive', 'j', ['*per-']], ['10166', 'fret', 'v', ['*ed-', '*per-']], ['10294', 'imperfect', 'j', ['*dhe-', '*per-']], ['10310', 'pardon', 'v', ['*do-', '*per-']], ['10334', 'approved', 'j', ['*per-']], ['10395', 'suppression', 'n', ['*per-']], ['10407', 'profile', 'v', ['*gwhi-', '*per-']], ['10421', 'osteoporosis', 'n', ['*per-']], ['10444', 'upright', 'j', ['*per-', '*reg-']], ['10448', 'perverse', 'j', ['*per-', '*wer-']], ['10542', 'imprint', 'n', ['*per-']], ['10560', 'projector', 'n', ['*per-', '*ye-']], ['10588', 'profess', 'v', ['*bha-', '*per-']], ['10617', 'disapproval', 'n', ['*per-']], ['10704', 'outright', 'r', ['*per-', '*reg-']], ['10740', 'pride', 'v', ['*per-']], ['10745', 'principally', 'r', ['*kap-', '*per-']], ['10747', 'beforehand', 'r', ['*per-']], ['10857', 'downright', 'r', ['*per-', '*reg-']], ['10864', 'reciprocal', 'j', ['*per-']], ['10895', 'inexperienced', 'j', ['*per-']], ['10937', 'disapprove', 'v', ['*per-']], ['11077', 'repercussion', 'n', ['*per-']], ['11103', 'deport', 'v', ['*per-']], ['11111', 'righteous', 'j', ['*per-', '*reg-']], ['11151', 'primer', 'n', ['*per-']], ['11321', 'perennial', 'n', ['*per-']], ['11339', 'prowess', 'n', ['*per-']], ['11385', 'perjury', 'n', ['*per-']], ['11422', 'ferry', 'v', ['*per-']], ['11472', 'pricey', 'j', ['*per-']], ['11556', 'further', 'v', ['*per-']], ['11634', 'purport', 'v', ['*per-']], ['11660', 'primate', 'n', ['*per-']], ['11685', 'depressive', 'n', ['*per-']], ['11730', 'repressive', 'j', ['*per-']], ['11735', 'depress', 'v', ['*per-']], ['11796', 'fearless', 'j', ['*per-']], ['11814', 'counterproductive', 'j', ['*deuk-', '*per-']], ['11871', 'pore', 'n', ['*per-']], ['11907', 'prosthesis', 'n', ['*dhe-', '*per-']], ['12006', 'deportation', 'n', ['*per-']], ['12061', 'primal', 'j', ['*per-']], ['12161', 'unprotected', 'j', ['*(s)teg-', '*per-']], ['12205', 'approximate', 'v', ['*per-']], ['12307', 'waterproof', 'j', ['*per-']], ['12374', 'pervade', 'v', ['*per-']], ['12378', 'express', 'j', ['*per-']], ['12398', 'rapport', 'n', ['*ad-', '*per-']], ['12423', 'parity', 'n', ['*per-']], ['12435', 'oppressed', 'j', ['*per-']], ['12536', 'proton', 'n', ['*per-']], ['12558', 'pertain', 'v', ['*per-', '*ten-']], ['12663', 'prime', 'v', ['*per-']], ['12829', 'priceless', 'j', ['*per-']], ['12957', 'appreciative', 'j', ['*per-']], ['13093', 'espresso', 'n', ['*per-']], ['13097', 'outperform', 'v', ['*per-']], ['13113', 'piercing', 'j', ['*per-']], ['13140', 'permissible', 'j', ['*per-']], ['13147', 'unimportant', 'j', ['*per-']], ['13153', 'priesthood', 'n', ['*per-']], ['13169', 'perilous', 'j', ['*per-']], ['13298', 'persecute', 'v', ['*per-', '*sekw-']], ['13347', 'imperfection', 'n', ['*dhe-', '*per-']], ['13371', 'proverb', 'n', ['*per-']], ['13409', 'porter', 'n', ['*per-']], ['13412', 'oppress', 'v', ['*per-']], ['13439', 'repress', 'v', ['*per-']], ['13454', 'rightful', 'j', ['*per-', '*reg-']], ['13460', 'first-rate', 'j', ['*per-']], ['13542', 'appraise', 'v', ['*per-']], ['13543', 'afar', 'r', ['*per-']], ['13604', 'forward', 'n', ['*per-']], ['13627', 'primordial', 'j', ['*ar-', '*per-']], ['13649', 'pornographic', 'j', ['*per-']], ['13693', 'impromptu', 'j', ['*em-', '*per-']], ['13739', 'approximate', 'j', ['*per-']], ['13813', 'repressed', 'j', ['*per-']], ['13836', 'veneer', 'n', ['*per-']], ['13855', 'fore', 'n', ['*per-']], ['13871', 'prioritize', 'v', ['*per-']], ['13955', 'forward', 'v', ['*per-']], ['14033', 'porous', 'j', ['*per-']], ['14046', 'perseverance', 'n', ['*per-', '*segh-']], ['14068', 'expressly', 'r', ['*per-']], ['14071', 'approximation', 'n', ['*per-']], ['14094', 'percentile', 'n', ['*dekm-', '*per-']], ['14101', 'primitive', 'n', ['*per-']], ['14126', 'proverbial', 'j', ['*per-']], ['14250', 'persevere', 'v', ['*per-', '*segh-']], ['14290', 'importer', 'n', ['*per-']], ['14364', 'perpendicular', 'j', ['*(s)pen-', '*per-']], ['14369', 'prior', 'r', ['*per-']], ['14385', 'purchaser', 'n', ['*kap-', '*per-']], ['14417', 'percussion', 'n', ['*per-']], ['14428', 'privy', 'j', ['*per-']], ['14509', 'far-flung', 'j', ['*per-']], ['14515', 'perspiration', 'n', ['*per-']], ['14551', 'pore', 'v', ['*per-']], ['14808', 'sporty', 'j', ['*per-']], ['14814', 'expert', 'j', ['*per-']], ['14858', 'prompt', 'n', ['*em-', '*per-']], ['14922', 'misinterpret', 'v', ['*per-']], ['14960', 'peruse', 'v', ['*per-']], ['14989', 'sportsman', 'n', ['*per-']], ['15021', 'self-portrait', 'n', ['*per-']], ['15029', 'prompt', 'j', ['*em-', '*per-']], ['15149', 'private', 'n', ['*per-']], ['15238', 'compressor', 'n', ['*per-']], ['15290', 'fearsome', 'j', ['*per-']], ['15361', 'reprimand', 'v', ['*per-']], ['15365', 'mainframe', 'n', ['*per-']], ['15393', 'right', 'v', ['*per-', '*reg-']], ['15659', 'premier', 'n', ['*per-']], ['15772', 'forthright', 'j', ['*per-']], ['15810', 'depreciation', 'n', ['*per-']], ['15869', 'impervious', 'j', ['*per-', '*wegh-']], ['15886', 'forwards', 'r', ['*per-']], ['15911', 'perfectionist', 'n', ['*dhe-', '*per-']], ['15928', 'righteousness', 'n', ['*per-', '*reg-']], ['15957', 'perplex', 'v', ['*per-', '*plek-']], ['16096', 'uncompromising', 'j', ['*per-']], ['16139', 'perestroika', 'n', ['*per-', '*stere-']], ['16171', 'reciprocate', 'v', ['*per-']], ['16419', 'permanence', 'n', ['*men-', '*per-']], ['16425', 'premier', 'v', ['*per-']], ['16490', 'impressed', 'j', ['*per-']], ['16496', 'disprove', 'v', ['*per-']], ['16590', 'pernicious', 'j', ['*nek-', '*per-']], ['16593', 'profusion', 'n', ['*gheu-', '*per-']], ['16774', 'imprint', 'v', ['*per-']], ['16858', 'purportedly', 'r', ['*per-']], ['16891', 'principled', 'j', ['*kap-', '*per-']], ['17109', 'reprint', 'n', ['*per-']], ['17353', 'newsprint', 'n', ['*per-']], ['17546', 'reprimand', 'n', ['*per-']], ['17651', 'deprived', 'j', ['*per-']], ['17925', 'importation', 'n', ['*per-']], ['18089', 'unproductive', 'j', ['*deuk-', '*per-']], ['18093', 'perversion', 'n', ['*per-', '*wer-']], ['18160', 'inexperience', 'n', ['*per-']], ['18166', 'henceforth', 'r', ['*per-']], ['18257', 'imperil', 'v', ['*per-']], ['18302', 'high-pressure', 'j', ['*per-']], ['18421', 'profane', 'j', ['*dhes-', '*per-']], ['18731', 'subprime', 'j', ['*per-']], ['18754', 'oppressor', 'n', ['*per-']], ['18763', 'far-off', 'j', ['*per-']], ['18904', 'expressionless', 'j', ['*per-']], ['18917', 'permissive', 'j', ['*per-']], ['18941', 'appraiser', 'n', ['*per-']], ['19040', 'priestly', 'j', ['*per-']], ['19128', 'unimpressed', 'j', ['*per-']], ['19196', 'furnished', 'j', ['*per-']], ['19268', 'reproach', 'n', ['*per-']], ['19306', 'primeval', 'j', ['*aiw-', '*per-']], ['19408', 'profiling', 'n', ['*gwhi-', '*per-']], ['19445', 'sportsmanship', 'n', ['*per-']], ['19555', 'self-righteous', 'j', ['*per-', '*reg-']], ['19577', 'forefather', 'n', ['*per-']], ['19614', 'incomparable', 'j', ['*per-']], ['19663', 'unprofitable', 'j', ['*dhe-', '*per-']], ['19700', 'precious', 'r', ['*per-']], ['19725', 'perplexed', 'j', ['*per-', '*plek-']], ['19818', 'perforation', 'n', ['*bhorh-', '*per-']], ['19891', 'priestess', 'n', ['*per-']], ['19982', 'rapprochement', 'n', ['*per-']], ['20071', 'perfunctory', 'j', ['*bhrug-', '*per-']], ['20095', 'portraiture', 'n', ['*per-']], ['20183', 'prosaic', 'j', ['*per-', '*wer-']]]\n"
     ]
    },
    {
     "name": "stdout",
     "output_type": "stream",
     "text": [
      "wait\n",
      "[['18', 'do', 'v', ['*dhe-']], ['236', 'fact', 'n', ['*dhe-']], ['331', 'face', 'n', ['*dhe-']], ['342', 'office', 'n', ['*dhe-', '*op-']], ['428', 'effect', 'n', ['*dhe-']], ['527', 'official', 'n', ['*dhe-', '*op-']], ['554', 'face', 'v', ['*dhe-']], ['671', 'officer', 'n', ['*dhe-', '*op-']], ['720', 'significant', 'j', ['*dhe-', '*sekw-']], ['730', 'factor', 'n', ['*dhe-']], ['815', 'benefit', 'n', ['*deu-', '*dhe-']], ['851', 'indeed', 'r', ['*dhe-']], ['966', 'affect', 'v', ['*dhe-']], ['1017', 'surface', 'n', ['*dhe-']], ['1136', 'effective', 'j', ['*dhe-']], ['1163', 'perfect', 'j', ['*dhe-', '*per-']], ['1194', 'feature', 'n', ['*dhe-']], ['1304', 'facility', 'n', ['*dhe-']], ['1373', 'affair', 'n', ['*dhe-']], ['1614', 'scientific', 'j', ['*dhe-']], ['1665', 'theme', 'n', ['*dhe-']], ['1697', 'difficulty', 'n', ['*dhe-']], ['1716', 'profit', 'n', ['*dhe-', '*per-']], ['1740', 'feature', 'v', ['*dhe-']], ['1846', 'official', 'j', ['*dhe-', '*op-']], ['1936', 'fashion', 'n', ['*dhe-']], ['1998', 'faculty', 'n', ['*dhe-']], ['2151', 'factory', 'n', ['*dhe-']], ['2254', 'benefit', 'v', ['*deu-', '*dhe-']], ['2271', 'manufacturer', 'n', ['*dhe-', '*man-']], ['2425', 'deficit', 'n', ['*dhe-']], ['2457', 'perfectly', 'r', ['*dhe-', '*per-']], ['2587', 'effectively', 'r', ['*dhe-']], ['2715', 'infection', 'n', ['*dhe-']], ['2803', 'satisfaction', 'n', ['*dhe-', '*sa-']], ['2816', 'testify', 'v', ['*dhe-']], ['2857', 'justify', 'v', ['*dhe-']], ['2960', 'significance', 'n', ['*dhe-', '*sekw-']], ['3023', 'efficient', 'j', ['*dhe-']], ['3026', 'satisfy', 'v', ['*dhe-', '*sa-']], ['3073', 'efficiency', 'n', ['*dhe-']], ['3075', 'qualify', 'v', ['*dhe-']], ['3123', 'sufficient', 'j', ['*dhe-']], ['3358', 'defeat', 'v', ['*dhe-']], ['3406', 'hypothesis', 'n', ['*dhe-']], ['3578', 'effectiveness', 'n', ['*dhe-']], ['3604', 'facilitate', 'v', ['*dhe-']], ['3718', 'modify', 'v', ['*dhe-', '*med-']], ['4043', 'artificial', 'j', ['*dhe-']], ['4109', 'sacrifice', 'n', ['*dhe-']], ['4115', 'treasure', 'n', ['*dhe-']], ['4170', 'defeat', 'n', ['*dhe-']], ['4275', 'terrific', 'j', ['*dhe-']], ['4496', 'sacrifice', 'v', ['*dhe-']], ['4607', 'deem', 'v', ['*dhe-']], ['4608', 'artifact', 'n', ['*ar-', '*dhe-']], ['4791', 'old-fashioned', 'j', ['*dhe-']], ['5052', 'beneficial', 'j', ['*dhe-']], ['5113', 'clarify', 'v', ['*dhe-', '*kele-']], ['5166', 'satisfied', 'j', ['*dhe-', '*sa-']], ['5197', 'manufacture', 'v', ['*dhe-', '*man-']], ['5200', 'affection', 'n', ['*dhe-']], ['5268', 'infect', 'v', ['*dhe-']], ['5305', 'certificate', 'n', ['*dhe-']], ['5420', 'profitable', 'j', ['*dhe-', '*per-']], ['5564', 'magnificent', 'j', ['*dhe-', '*meg-']], ['5601', 'modification', 'n', ['*dhe-', '*med-']], ['5709', 'verify', 'v', ['*dhe-', '*were-o-']], ['5714', 'faction', 'n', ['*dhe-']], ['5817', 'facial', 'j', ['*dhe-']], ['5848', 'deed', 'n', ['*dhe-']], ['5898', 'justification', 'n', ['*dhe-']], ['6031', 'sufficiently', 'r', ['*dhe-']], ['6035', 'defect', 'n', ['*dhe-']], ['6054', 'coefficient', 'n', ['*dhe-']], ['6061', 'thesis', 'n', ['*dhe-']], ['6200', 'notify', 'v', ['*dhe-', '*gno-']], ['6210', 'certification', 'n', ['*dhe-']], ['6277', 'interface', 'n', ['*dhe-']], ['6358', 'fashion', 'v', ['*dhe-']], ['6413', 'satisfying', 'j', ['*dhe-', '*sa-']], ['6452', 'deficiency', 'n', ['*dhe-']], ['6604', 'perfection', 'n', ['*dhe-', '*per-']], ['6651', 'beneficiary', 'n', ['*deu-', '*dhe-']], ['6732', 'undo', 'v', ['*dhe-']], ['6790', 'signify', 'v', ['*dhe-', '*sekw-']], ['6940', 'qualification', 'n', ['*dhe-']], ['7079', 'certified', 'j', ['*dhe-']], ['7160', 'certify', 'v', ['*dhe-']], ['7206', 'infectious', 'j', ['*dhe-']], ['7210', 'surface', 'v', ['*dhe-']], ['7235', 'insufficient', 'j', ['*dhe-']], ['7301', 'feat', 'n', ['*dhe-']], ['7353', 'effect', 'v', ['*dhe-']], ['7604', 'doom', 'v', ['*dhe-']], ['7730', 'feasible', 'j', ['*dhe-']], ['7739', 'facade', 'n', ['*dhe-']], ['7770', 'affect', 'n', ['*dhe-']], ['7797', 'fashionable', 'j', ['*dhe-']], ['7839', 'profit', 'v', ['*dhe-', '*per-']], ['7879', 'perfect', 'v', ['*dhe-', '*per-']], ['8022', 'ineffective', 'j', ['*dhe-']], ['8171', 'unify', 'v', ['*dhe-']], ['8397', 'boutique', 'n', ['*dhe-']], ['8423', 'synthesis', 'n', ['*dhe-']], ['8468', 'satisfactory', 'j', ['*dhe-', '*sa-']], ['8647', 'simplify', 'v', ['*dhe-']], ['8704', 'dissatisfaction', 'n', ['*dhe-', '*sa-']], ['8953', 'wrongdoing', 'n', ['*dhe-']], ['8962', 'facet', 'n', ['*dhe-']], ['8993', 'doom', 'n', ['*dhe-']], ['8998', 'hypothesize', 'v', ['*dhe-']], ['9077', 'insignificant', 'j', ['*dhe-', '*sekw-']], ['9229', 'affected', 'j', ['*dhe-']], ['9259', 'ratify', 'v', ['*dhe-', '*re-']], ['9332', 'horrific', 'j', ['*dhe-']], ['9466', 'unofficial', 'j', ['*dhe-', '*op-']], ['9505', 'suffice', 'v', ['*dhe-']], ['9793', 'magnify', 'v', ['*dhe-', '*meg-']], ['9826', 'amplify', 'v', ['*dhe-']], ['9878', 'inefficient', 'j', ['*dhe-']], ['9933', 'abdomen', 'n', ['*dhe-']], ['9951', 'quantify', 'v', ['*dhe-']], ['10268', 'unification', 'n', ['*dhe-']], ['10294', 'imperfect', 'j', ['*dhe-', '*per-']], ['10377', 'ramification', 'n', ['*dhe-', '*wrād-']], ['10422', 'cost-effective', 'j', ['*dhe-']], ['10455', 'proficiency', 'n', ['*dhe-']], ['10494', 'manufacture', 'n', ['*dhe-', '*man-']], ['10767', 'dignified', 'j', ['*dek-', '*dhe-']], ['11192', 'synthesize', 'v', ['*dhe-']], ['11273', 'prolific', 'j', ['*al-', '*dhe-']], ['11287', 'defective', 'j', ['*dhe-']], ['11290', 'treasurer', 'n', ['*dhe-']], ['11366', 'verification', 'n', ['*dhe-', '*were-o-']], ['11626', 'clarification', 'n', ['*dhe-', '*kele-']], ['11647', 'artificially', 'r', ['*dhe-']], ['11841', 'reunification', 'n', ['*dhe-']], ['11852', 'thematic', 'j', ['*dhe-']], ['11907', 'prosthesis', 'n', ['*dhe-', '*per-']], ['12066', 'notification', 'n', ['*dhe-', '*gno-']], ['12316', 'disqualify', 'v', ['*dhe-']], ['12392', 'facilitator', 'n', ['*dhe-']], ['12467', 'proficient', 'j', ['*dhe-']], ['12472', 'affectionate', 'j', ['*dhe-']], ['12676', 'gratification', 'n', ['*dhe-', '*gwere-']], ['13017', 'treasure', 'v', ['*dhe-']], ['13038', 'forfeit', 'v', ['*dhe-', '*dhwer-']], ['13099', 'self-sufficient', 'j', ['*dhe-']], ['13155', 'fortify', 'v', ['*dhe-']], ['13161', 'deficient', 'j', ['*dhe-']], ['13231', 'factor', 'v', ['*dhe-']], ['13243', 'magnification', 'n', ['*dhe-', '*meg-']], ['13347', 'imperfection', 'n', ['*dhe-', '*per-']], ['13533', 'unaffected', 'j', ['*dhe-']], ['13741', 'inefficiency', 'n', ['*dhe-']], ['13903', 'purify', 'v', ['*dhe-']], ['13932', 'defect', 'v', ['*dhe-']], ['14051', 'glorify', 'v', ['*dhe-']], ['14108', 'benefactor', 'n', ['*deu-', '*dhe-']], ['14314', 'defection', 'n', ['*dhe-']], ['14476', 'resurface', 'v', ['*dhe-']], ['14516', 'self-sufficiency', 'n', ['*dhe-']], ['14585', 'ratification', 'n', ['*dhe-', '*re-']], ['14684', 'unqualified', 'j', ['*dhe-']], ['14904', 'rectify', 'v', ['*dhe-', '*reg-']], ['15009', 'chauffeur', 'n', ['*dhe-', '*kele-']], ['15196', 'edifice', 'n', ['*as-', '*dhe-']], ['15201', 'undefeated', 'j', ['*dhe-']], ['15203', 'epithet', 'n', ['*dhe-']], ['15395', 'unsatisfactory', 'j', ['*dhe-', '*sa-']], ['15561', 'petrified', 'j', ['*dhe-']], ['15607', 'antithesis', 'n', ['*dhe-']], ['15613', 'justified', 'j', ['*dhe-']], ['15629', 'ticking', 'n', ['*dhe-']], ['15911', 'perfectionist', 'n', ['*dhe-', '*per-']], ['15950', 'justifiable', 'j', ['*dhe-']], ['16009', 'parenthesis', 'n', ['*dhe-']], ['16062', 'purification', 'n', ['*dhe-']], ['16077', 'amplifier', 'n', ['*dhe-']], ['16156', 'qualifier', 'n', ['*dhe-']], ['16460', 'faceless', 'j', ['*dhe-']], ['16484', 'sacrificial', 'j', ['*dhe-']], ['16489', 'defector', 'n', ['*dhe-']], ['16510', 'chafe', 'v', ['*dhe-', '*kele-']], ['16609', 'fetish', 'n', ['*dhe-']], ['17051', 'interface', 'v', ['*dhe-']], ['17057', 'confectioner', 'n', ['*dhe-']], ['17284', 'synthesizer', 'n', ['*dhe-']], ['17385', 'box-office', 'j', ['*dhe-', '*op-']], ['17740', 'condiment', 'n', ['*dhe-']], ['17742', 'anathema', 'n', ['*dhe-']], ['17744', 'disaffected', 'j', ['*dhe-']], ['17772', 'nullify', 'v', ['*dhe-', '*ne-']], ['17807', 'officiate', 'v', ['*dhe-', '*op-']], ['17826', 'signifier', 'n', ['*dhe-', '*sekw-']], ['17911', 'vilify', 'v', ['*dhe-']], ['17967', 'disinfectant', 'n', ['*dhe-']], ['18014', 'counterfeit', 'j', ['*dhe-']], ['18120', 'ineffectual', 'j', ['*dhe-']], ['18263', 'fortification', 'n', ['*dhe-']], ['18320', 'misdeed', 'n', ['*dhe-']], ['18468', 'to-do', 'n', ['*dhe-']], ['18537', 'face-lift', 'n', ['*dhe-']], ['18546', 'gratify', 'v', ['*dhe-', '*gwere-']], ['18585', 'amplification', 'n', ['*dhe-']], ['18981', 'artifice', 'n', ['*ar-', '*dhe-']], ['19101', 'mortify', 'v', ['*dhe-', '*mer-']], ['19242', 'stratification', 'n', ['*dhe-']], ['19296', 'facsimile', 'n', ['*dhe-', '*sem-']], ['19356', 'scoundrel', 'n', ['*dhe-']], ['19362', 'doable', 'j', ['*dhe-']], ['19541', 'simplification', 'n', ['*dhe-']], ['19663', 'unprofitable', 'j', ['*dhe-', '*per-']], ['19824', 'hacienda', 'n', ['*dhe-']], ['19915', 'laissez-faire', 'n', ['*dhe-']], ['20165', 'confection', 'n', ['*dhe-']]]\n"
     ]
    },
    {
     "ename": "KeyboardInterrupt",
     "evalue": "",
     "output_type": "error",
     "traceback": [
      "\u001b[0;31m---------------------------------------------------------------------------\u001b[0m",
      "\u001b[0;31mKeyboardInterrupt\u001b[0m                         Traceback (most recent call last)",
      "\u001b[0;32m~/Library/Python/3.7/lib/python/site-packages/ipykernel/kernelbase.py\u001b[0m in \u001b[0;36m_input_request\u001b[0;34m(self, prompt, ident, parent, password)\u001b[0m\n\u001b[1;32m    856\u001b[0m             \u001b[0;32mtry\u001b[0m\u001b[0;34m:\u001b[0m\u001b[0;34m\u001b[0m\u001b[0;34m\u001b[0m\u001b[0m\n\u001b[0;32m--> 857\u001b[0;31m                 \u001b[0mident\u001b[0m\u001b[0;34m,\u001b[0m \u001b[0mreply\u001b[0m \u001b[0;34m=\u001b[0m \u001b[0mself\u001b[0m\u001b[0;34m.\u001b[0m\u001b[0msession\u001b[0m\u001b[0;34m.\u001b[0m\u001b[0mrecv\u001b[0m\u001b[0;34m(\u001b[0m\u001b[0mself\u001b[0m\u001b[0;34m.\u001b[0m\u001b[0mstdin_socket\u001b[0m\u001b[0;34m,\u001b[0m \u001b[0;36m0\u001b[0m\u001b[0;34m)\u001b[0m\u001b[0;34m\u001b[0m\u001b[0;34m\u001b[0m\u001b[0m\n\u001b[0m\u001b[1;32m    858\u001b[0m             \u001b[0;32mexcept\u001b[0m \u001b[0mException\u001b[0m\u001b[0;34m:\u001b[0m\u001b[0;34m\u001b[0m\u001b[0;34m\u001b[0m\u001b[0m\n",
      "\u001b[0;32m~/Library/Python/3.7/lib/python/site-packages/jupyter_client/session.py\u001b[0m in \u001b[0;36mrecv\u001b[0;34m(self, socket, mode, content, copy)\u001b[0m\n\u001b[1;32m    802\u001b[0m         \u001b[0;32mtry\u001b[0m\u001b[0;34m:\u001b[0m\u001b[0;34m\u001b[0m\u001b[0;34m\u001b[0m\u001b[0m\n\u001b[0;32m--> 803\u001b[0;31m             \u001b[0mmsg_list\u001b[0m \u001b[0;34m=\u001b[0m \u001b[0msocket\u001b[0m\u001b[0;34m.\u001b[0m\u001b[0mrecv_multipart\u001b[0m\u001b[0;34m(\u001b[0m\u001b[0mmode\u001b[0m\u001b[0;34m,\u001b[0m \u001b[0mcopy\u001b[0m\u001b[0;34m=\u001b[0m\u001b[0mcopy\u001b[0m\u001b[0;34m)\u001b[0m\u001b[0;34m\u001b[0m\u001b[0;34m\u001b[0m\u001b[0m\n\u001b[0m\u001b[1;32m    804\u001b[0m         \u001b[0;32mexcept\u001b[0m \u001b[0mzmq\u001b[0m\u001b[0;34m.\u001b[0m\u001b[0mZMQError\u001b[0m \u001b[0;32mas\u001b[0m \u001b[0me\u001b[0m\u001b[0;34m:\u001b[0m\u001b[0;34m\u001b[0m\u001b[0;34m\u001b[0m\u001b[0m\n",
      "\u001b[0;32m~/Library/Python/3.7/lib/python/site-packages/zmq/sugar/socket.py\u001b[0m in \u001b[0;36mrecv_multipart\u001b[0;34m(self, flags, copy, track)\u001b[0m\n\u001b[1;32m    466\u001b[0m         \"\"\"\n\u001b[0;32m--> 467\u001b[0;31m         \u001b[0mparts\u001b[0m \u001b[0;34m=\u001b[0m \u001b[0;34m[\u001b[0m\u001b[0mself\u001b[0m\u001b[0;34m.\u001b[0m\u001b[0mrecv\u001b[0m\u001b[0;34m(\u001b[0m\u001b[0mflags\u001b[0m\u001b[0;34m,\u001b[0m \u001b[0mcopy\u001b[0m\u001b[0;34m=\u001b[0m\u001b[0mcopy\u001b[0m\u001b[0;34m,\u001b[0m \u001b[0mtrack\u001b[0m\u001b[0;34m=\u001b[0m\u001b[0mtrack\u001b[0m\u001b[0;34m)\u001b[0m\u001b[0;34m]\u001b[0m\u001b[0;34m\u001b[0m\u001b[0;34m\u001b[0m\u001b[0m\n\u001b[0m\u001b[1;32m    468\u001b[0m         \u001b[0;31m# have first part already, only loop while more to receive\u001b[0m\u001b[0;34m\u001b[0m\u001b[0;34m\u001b[0m\u001b[0;34m\u001b[0m\u001b[0m\n",
      "\u001b[0;32mzmq/backend/cython/socket.pyx\u001b[0m in \u001b[0;36mzmq.backend.cython.socket.Socket.recv\u001b[0;34m()\u001b[0m\n",
      "\u001b[0;32mzmq/backend/cython/socket.pyx\u001b[0m in \u001b[0;36mzmq.backend.cython.socket.Socket.recv\u001b[0;34m()\u001b[0m\n",
      "\u001b[0;32mzmq/backend/cython/socket.pyx\u001b[0m in \u001b[0;36mzmq.backend.cython.socket._recv_copy\u001b[0;34m()\u001b[0m\n",
      "\u001b[0;32m~/Library/Python/3.7/lib/python/site-packages/zmq/backend/cython/checkrc.pxd\u001b[0m in \u001b[0;36mzmq.backend.cython.checkrc._check_rc\u001b[0;34m()\u001b[0m\n",
      "\u001b[0;31mKeyboardInterrupt\u001b[0m: ",
      "\nDuring handling of the above exception, another exception occurred:\n",
      "\u001b[0;31mKeyboardInterrupt\u001b[0m                         Traceback (most recent call last)",
      "\u001b[0;32m<ipython-input-15-6400afcec8d4>\u001b[0m in \u001b[0;36m<module>\u001b[0;34m\u001b[0m\n\u001b[1;32m     24\u001b[0m \u001b[0;32mfor\u001b[0m \u001b[0mroot\u001b[0m \u001b[0;32min\u001b[0m \u001b[0mdist\u001b[0m\u001b[0;34m:\u001b[0m\u001b[0;34m\u001b[0m\u001b[0;34m\u001b[0m\u001b[0m\n\u001b[1;32m     25\u001b[0m     \u001b[0mprint\u001b[0m\u001b[0;34m(\u001b[0m\u001b[0mroot2entries\u001b[0m\u001b[0;34m[\u001b[0m\u001b[0mroot\u001b[0m\u001b[0;34m]\u001b[0m\u001b[0;34m)\u001b[0m\u001b[0;34m\u001b[0m\u001b[0;34m\u001b[0m\u001b[0m\n\u001b[0;32m---> 26\u001b[0;31m     \u001b[0minput\u001b[0m\u001b[0;34m(\u001b[0m\u001b[0;34m\"wait\"\u001b[0m\u001b[0;34m)\u001b[0m\u001b[0;34m\u001b[0m\u001b[0;34m\u001b[0m\u001b[0m\n\u001b[0m",
      "\u001b[0;32m~/Library/Python/3.7/lib/python/site-packages/ipykernel/kernelbase.py\u001b[0m in \u001b[0;36mraw_input\u001b[0;34m(self, prompt)\u001b[0m\n\u001b[1;32m    830\u001b[0m             \u001b[0mself\u001b[0m\u001b[0;34m.\u001b[0m\u001b[0m_parent_ident\u001b[0m\u001b[0;34m,\u001b[0m\u001b[0;34m\u001b[0m\u001b[0;34m\u001b[0m\u001b[0m\n\u001b[1;32m    831\u001b[0m             \u001b[0mself\u001b[0m\u001b[0;34m.\u001b[0m\u001b[0m_parent_header\u001b[0m\u001b[0;34m,\u001b[0m\u001b[0;34m\u001b[0m\u001b[0;34m\u001b[0m\u001b[0m\n\u001b[0;32m--> 832\u001b[0;31m             \u001b[0mpassword\u001b[0m\u001b[0;34m=\u001b[0m\u001b[0;32mFalse\u001b[0m\u001b[0;34m,\u001b[0m\u001b[0;34m\u001b[0m\u001b[0;34m\u001b[0m\u001b[0m\n\u001b[0m\u001b[1;32m    833\u001b[0m         )\n\u001b[1;32m    834\u001b[0m \u001b[0;34m\u001b[0m\u001b[0m\n",
      "\u001b[0;32m~/Library/Python/3.7/lib/python/site-packages/ipykernel/kernelbase.py\u001b[0m in \u001b[0;36m_input_request\u001b[0;34m(self, prompt, ident, parent, password)\u001b[0m\n\u001b[1;32m    860\u001b[0m             \u001b[0;32mexcept\u001b[0m \u001b[0mKeyboardInterrupt\u001b[0m\u001b[0;34m:\u001b[0m\u001b[0;34m\u001b[0m\u001b[0;34m\u001b[0m\u001b[0m\n\u001b[1;32m    861\u001b[0m                 \u001b[0;31m# re-raise KeyboardInterrupt, to truncate traceback\u001b[0m\u001b[0;34m\u001b[0m\u001b[0;34m\u001b[0m\u001b[0;34m\u001b[0m\u001b[0m\n\u001b[0;32m--> 862\u001b[0;31m                 \u001b[0;32mraise\u001b[0m \u001b[0mKeyboardInterrupt\u001b[0m\u001b[0;34m\u001b[0m\u001b[0;34m\u001b[0m\u001b[0m\n\u001b[0m\u001b[1;32m    863\u001b[0m             \u001b[0;32melse\u001b[0m\u001b[0;34m:\u001b[0m\u001b[0;34m\u001b[0m\u001b[0;34m\u001b[0m\u001b[0m\n\u001b[1;32m    864\u001b[0m                 \u001b[0;32mbreak\u001b[0m\u001b[0;34m\u001b[0m\u001b[0;34m\u001b[0m\u001b[0m\n",
      "\u001b[0;31mKeyboardInterrupt\u001b[0m: "
     ]
    }
   ],
   "source": [
    "lines = read_lines(\"word_freq_list_with_roots.txt\")\n",
    "\n",
    "all_roots = []\n",
    "entries = []\n",
    "for line in lines:\n",
    "    split = line.split('\\t')\n",
    "    if len(split) == 4:\n",
    "        roots = split[-1].split(', ')\n",
    "        all_roots.extend(roots)\n",
    "        split[-1] = roots\n",
    "    else:\n",
    "        roots = []\n",
    "        split.append(roots)\n",
    "    entries.append(split)\n",
    "\n",
    "dist = dict(FreqDist(all_roots).most_common())\n",
    "\n",
    "root2entries = defaultdict(list)\n",
    "for entry in entries:\n",
    "    roots = entry[-1]\n",
    "    for root in roots:\n",
    "        root2entries[root].append(entry)\n",
    "\n",
    "for root in dist:\n",
    "    print(root)\n",
    "    print(\"\")\n",
    "    print(root2entries[root])\n",
    "    input(\"wait\")"
   ]
  },
  {
   "cell_type": "code",
   "execution_count": 22,
   "metadata": {},
   "outputs": [
    {
     "name": "stdout",
     "output_type": "stream",
     "text": [
      "instance #1\n",
      "columns\n",
      "['A', 'B', 'C', 'D', 'E', 'F', 'G']\n",
      "rows\n",
      "[[0, 3, 6], [0, 3], [3, 4, 6], [2, 4, 5], [1, 2, 5, 6], [1, 6]]\n",
      "covered columns per selected row\n",
      "1 ['A', 'D', 'G']\n",
      "3 ['D', 'E', 'G']\n",
      "5 ['B', 'C', 'F', 'G']\n",
      "\n",
      "\n"
     ]
    }
   ],
   "source": [
    "from dlx import DLX\n",
    "\n",
    "def genInstance(labels, rows) :\n",
    "    columns = []\n",
    "    indices_l = {}\n",
    "    for i in range(len(labels)) :\n",
    "        label = labels[i]\n",
    "        indices_l[label] = i\n",
    "        columns.append(tuple([label,0]))\n",
    "    return labels, rows, columns, indices_l\n",
    "\n",
    "def solveInstance(instance) :\n",
    "    labels, rows, columns, indices_l = instance\n",
    "    instance = DLX(columns)\n",
    "    indices = {}\n",
    "    for l, i in zip(rows, range(len(rows))) :\n",
    "        h = instance.appendRow(l, 'r'+str(i))\n",
    "        indices[str(hash(tuple(sorted(l))))] = i\n",
    "    sol = instance.solve()\n",
    "    lst = list(sol)\n",
    "    selected = []\n",
    "    for i in lst[0] :\n",
    "        l = instance.getRowList(i)\n",
    "        l2 = [indices_l[label] for label in l]\n",
    "        idx = indices[str(hash(tuple(sorted(l2))))]\n",
    "        selected.append(idx)\n",
    "    return selected\n",
    "\n",
    "def printColumnsPerRow(instance, selected) :\n",
    "    labels, rows, columns, indices_l = instance\n",
    "    print('covered columns per selected row')\n",
    "    for s in selected :\n",
    "        A = []\n",
    "        for z in rows[s-1] :\n",
    "            c, _ = columns[z]\n",
    "            A.append(c)\n",
    "        print(s, A)\n",
    "\n",
    "def printInstance(instance) :\n",
    "    labels, rows, columns, indices_l = instance\n",
    "    print('columns')\n",
    "    print(labels)\n",
    "    print('rows')\n",
    "    print(rows)\n",
    "\n",
    "\n",
    "\n",
    "'''\n",
    "example instance #1\n",
    "source: https://www.cs.mcgill.ca/~aassaf9/python/algorithm_x.html\n",
    "\n",
    "   A B C D E F G\n",
    "0  1 0 0 1 0 0 1  (0, 3, 6)\n",
    "1  1 0 0 1 0 0 0  (0, 3)\n",
    "2  0 0 0 1 1 0 1  (3, 4, 6)\n",
    "3  0 0 1 0 1 1 0  (2, 4, 5)\n",
    "4  0 1 1 0 0 1 1  (1, 2, 5, 6)\n",
    "5  0 1 0 0 0 0 1  (1, 6)\n",
    "\n",
    "expected solution: 1, 3, 5\n",
    "\n",
    "   A B C D E F G\n",
    "1  1 _ _ 1 _ _ _  (0, 3)\n",
    "3  _ _ 1 _ 1 1 _  (2, 4, 5)\n",
    "5  _ 1 _ _ _ _ 1  (1, 6)\n",
    "'''\n",
    "\n",
    "labels = ['A', 'B', 'C', 'D', 'E', 'F', 'G']\n",
    "print('instance #1')\n",
    "rows = [[0,3,6],[0,3],[3,4,6],[2,4,5],[1,2,5,6],[1,6]]\n",
    "instance = genInstance(labels, rows)\n",
    "selected = solveInstance(instance)\n",
    "printInstance(instance)\n",
    "printColumnsPerRow(instance, selected)\n",
    "print('')\n",
    "\n",
    "'''\n",
    "example instance #2\n",
    "source: https://lanl.arxiv.org/pdf/cs/0011047\n",
    "\n",
    "   A B C D E F G\n",
    "0  0 0 1 0 1 1 0  (2, 4, 5)\n",
    "1  1 0 0 1 0 0 1  (0, 3, 6)\n",
    "2  0 1 1 0 0 1 0  (1, 2, 5)\n",
    "3  1 0 0 1 0 0 0  (0, 3)\n",
    "4  0 1 0 0 0 0 1  (1, 6)\n",
    "5  0 0 0 1 1 0 1  (3, 4, 6)\n",
    "\n",
    "expected solution: 0, 3, 4\n",
    "\n",
    "   A B C D E F G\n",
    "0  _ _ 1 _ 1 1 _  (2, 4, 5)\n",
    "3  1 _ _ 1 _ _ _  (0, 3)\n",
    "4  _ 1 _ _ _ _ 1  (1, 6)\n",
    "'''\n",
    "\n",
    "print('instance #2')\n",
    "rows = [[2, 4, 5], [0, 3, 6], [1, 2, 5], [0, 3], [1, 6], [3, 4, 6]]\n",
    "instance = genInstance(labels, rows)\n",
    "selected = solveInstance(instance)\n",
    "printInstance(instance)\n",
    "printColumnsPerRow(instance, selected)"
   ]
  },
  {
   "cell_type": "code",
   "execution_count": 3,
   "metadata": {},
   "outputs": [],
   "source": [
    "def get_vocab(file):\n",
    "    lines = read_lines(file)\n",
    "#     lines = random.sample(lines, 30)\n",
    "    entries = []\n",
    "    vocab = set()\n",
    "    for line in lines:\n",
    "        split = line.split(\"\\t\")\n",
    "        assert len(split) == 3\n",
    "        entries.append(split)\n",
    "        vocab.add(split[1]) # there could be repeated word with different pos tags\n",
    "    return entries, vocab"
   ]
  },
  {
   "cell_type": "code",
   "execution_count": 4,
   "metadata": {},
   "outputs": [
    {
     "name": "stdout",
     "output_type": "stream",
     "text": [
      "Done reading file word_freq_list.txt\n"
     ]
    }
   ],
   "source": [
    "entries, vocab = get_vocab(\"word_freq_list.txt\")\n",
    "\n",
    "driver = get_driver(headless=True)\n",
    "base_url = \"https://www.etymonline.com/word/\""
   ]
  },
  {
   "cell_type": "code",
   "execution_count": 5,
   "metadata": {},
   "outputs": [],
   "source": [
    "def get_roots(word):\n",
    "    url = base_url + word\n",
    "    driver.get(url)\n",
    "    \n",
    "    print(\"current url:\", url)\n",
    "\n",
    "    related_entries = driver.find_elements_by_xpath(\n",
    "        \"//a[@target='_self']\")\n",
    "    related_words = [\n",
    "        entry.get_attribute('title').split()[-1] \n",
    "        for entry in related_entries]\n",
    "    related_roots = [\n",
    "        word for word in related_words \n",
    "        if word.startswith('*') and word.endswith('-')]\n",
    "    if related_roots == []:\n",
    "        candidate_lemmas = [\n",
    "            related_word for related_word in related_words\n",
    "            if (not related_word.startswith('-')\n",
    "                and not related_word.endswith('-')\n",
    "                and related_word[:(-1)] in word\n",
    "                and len(related_word) < len(word))]\n",
    "        if candidate_lemmas != []:\n",
    "            related_roots = get_roots(\n",
    "                max(candidate_lemmas, key=len)) # get the longest one\n",
    "    \n",
    "    return related_roots   "
   ]
  },
  {
   "cell_type": "code",
   "execution_count": 6,
   "metadata": {},
   "outputs": [
    {
     "name": "stderr",
     "output_type": "stream",
     "text": [
      "\r",
      "  0%|          | 0/30 [00:00<?, ?it/s]"
     ]
    },
    {
     "name": "stdout",
     "output_type": "stream",
     "text": [
      "framer\n"
     ]
    },
    {
     "name": "stderr",
     "output_type": "stream",
     "text": [
      "\r",
      "  3%|▎         | 1/30 [00:01<00:37,  1.29s/it]"
     ]
    },
    {
     "name": "stdout",
     "output_type": "stream",
     "text": [
      "current url: https://www.etymonline.com/word/framer\n",
      "granting\n"
     ]
    },
    {
     "name": "stderr",
     "output_type": "stream",
     "text": [
      "\r",
      "  7%|▋         | 2/30 [00:01<00:28,  1.03s/it]"
     ]
    },
    {
     "name": "stdout",
     "output_type": "stream",
     "text": [
      "current url: https://www.etymonline.com/word/granting\n",
      "artistic\n",
      "current url: https://www.etymonline.com/word/artistic\n"
     ]
    },
    {
     "name": "stderr",
     "output_type": "stream",
     "text": [
      "\r",
      " 10%|█         | 3/30 [00:04<00:39,  1.46s/it]"
     ]
    },
    {
     "name": "stdout",
     "output_type": "stream",
     "text": [
      "current url: https://www.etymonline.com/word/artist\n",
      "prodigy\n"
     ]
    },
    {
     "name": "stderr",
     "output_type": "stream",
     "text": [
      "\r",
      " 13%|█▎        | 4/30 [00:05<00:38,  1.49s/it]"
     ]
    },
    {
     "name": "stdout",
     "output_type": "stream",
     "text": [
      "current url: https://www.etymonline.com/word/prodigy\n",
      "obsessed\n",
      "current url: https://www.etymonline.com/word/obsessed\n"
     ]
    },
    {
     "name": "stderr",
     "output_type": "stream",
     "text": [
      "\r",
      " 17%|█▋        | 5/30 [00:07<00:38,  1.53s/it]"
     ]
    },
    {
     "name": "stdout",
     "output_type": "stream",
     "text": [
      "current url: https://www.etymonline.com/word/obsess\n",
      "soapy\n",
      "current url: https://www.etymonline.com/word/soapy\n"
     ]
    },
    {
     "name": "stderr",
     "output_type": "stream",
     "text": [
      "\r",
      " 20%|██        | 6/30 [00:08<00:35,  1.49s/it]"
     ]
    },
    {
     "name": "stdout",
     "output_type": "stream",
     "text": [
      "current url: https://www.etymonline.com/word/soap\n",
      "ultimately\n"
     ]
    },
    {
     "name": "stderr",
     "output_type": "stream",
     "text": [
      "\r",
      " 23%|██▎       | 7/30 [00:09<00:26,  1.17s/it]"
     ]
    },
    {
     "name": "stdout",
     "output_type": "stream",
     "text": [
      "current url: https://www.etymonline.com/word/ultimately\n",
      "Alamo\n"
     ]
    },
    {
     "name": "stderr",
     "output_type": "stream",
     "text": [
      "\r",
      " 27%|██▋       | 8/30 [00:09<00:22,  1.03s/it]"
     ]
    },
    {
     "name": "stdout",
     "output_type": "stream",
     "text": [
      "current url: https://www.etymonline.com/word/Alamo\n",
      "muffler\n",
      "current url: https://www.etymonline.com/word/muffler\n",
      "current url: https://www.etymonline.com/word/muffle\n"
     ]
    },
    {
     "name": "stderr",
     "output_type": "stream",
     "text": [
      "\r",
      " 30%|███       | 9/30 [00:11<00:27,  1.32s/it]"
     ]
    },
    {
     "name": "stdout",
     "output_type": "stream",
     "text": [
      "current url: https://www.etymonline.com/word/muff\n",
      "tuck\n"
     ]
    },
    {
     "name": "stderr",
     "output_type": "stream",
     "text": [
      "\r",
      " 33%|███▎      | 10/30 [00:12<00:23,  1.18s/it]"
     ]
    },
    {
     "name": "stdout",
     "output_type": "stream",
     "text": [
      "current url: https://www.etymonline.com/word/tuck\n",
      "later\n",
      "current url: https://www.etymonline.com/word/later\n"
     ]
    },
    {
     "name": "stderr",
     "output_type": "stream",
     "text": [
      "\r",
      " 37%|███▋      | 11/30 [00:14<00:24,  1.31s/it]"
     ]
    },
    {
     "name": "stdout",
     "output_type": "stream",
     "text": [
      "current url: https://www.etymonline.com/word/late\n",
      "close\n"
     ]
    },
    {
     "name": "stderr",
     "output_type": "stream",
     "text": [
      "\r",
      " 40%|████      | 12/30 [00:15<00:21,  1.19s/it]"
     ]
    },
    {
     "name": "stdout",
     "output_type": "stream",
     "text": [
      "current url: https://www.etymonline.com/word/close\n",
      "screenplay\n",
      "current url: https://www.etymonline.com/word/screenplay\n"
     ]
    },
    {
     "name": "stderr",
     "output_type": "stream",
     "text": [
      "\r",
      " 43%|████▎     | 13/30 [00:16<00:20,  1.19s/it]"
     ]
    },
    {
     "name": "stdout",
     "output_type": "stream",
     "text": [
      "current url: https://www.etymonline.com/word/screen\n",
      "formally\n",
      "current url: https://www.etymonline.com/word/formally\n",
      "current url: https://www.etymonline.com/word/formal\n",
      "current url: https://www.etymonline.com/word/form\n"
     ]
    },
    {
     "name": "stderr",
     "output_type": "stream",
     "text": [
      "\r",
      " 47%|████▋     | 14/30 [00:18<00:24,  1.52s/it]"
     ]
    },
    {
     "name": "stdout",
     "output_type": "stream",
     "text": [
      "rap\n"
     ]
    },
    {
     "name": "stderr",
     "output_type": "stream",
     "text": [
      "\r",
      " 50%|█████     | 15/30 [00:19<00:19,  1.31s/it]"
     ]
    },
    {
     "name": "stdout",
     "output_type": "stream",
     "text": [
      "current url: https://www.etymonline.com/word/rap\n",
      "Swede\n"
     ]
    },
    {
     "name": "stderr",
     "output_type": "stream",
     "text": [
      "\r",
      " 53%|█████▎    | 16/30 [00:20<00:15,  1.12s/it]"
     ]
    },
    {
     "name": "stdout",
     "output_type": "stream",
     "text": [
      "current url: https://www.etymonline.com/word/Swede\n",
      "apologize\n",
      "current url: https://www.etymonline.com/word/apologize\n"
     ]
    },
    {
     "name": "stderr",
     "output_type": "stream",
     "text": [
      "\r",
      " 57%|█████▋    | 17/30 [00:22<00:20,  1.57s/it]"
     ]
    },
    {
     "name": "stdout",
     "output_type": "stream",
     "text": [
      "current url: https://www.etymonline.com/word/apology\n",
      "mutually\n",
      "current url: https://www.etymonline.com/word/mutually\n"
     ]
    },
    {
     "name": "stderr",
     "output_type": "stream",
     "text": [
      "\r",
      " 60%|██████    | 18/30 [00:24<00:18,  1.58s/it]"
     ]
    },
    {
     "name": "stdout",
     "output_type": "stream",
     "text": [
      "current url: https://www.etymonline.com/word/mutual\n",
      "imperative\n"
     ]
    },
    {
     "name": "stderr",
     "output_type": "stream",
     "text": [
      "\r",
      " 63%|██████▎   | 19/30 [00:25<00:14,  1.33s/it]"
     ]
    },
    {
     "name": "stdout",
     "output_type": "stream",
     "text": [
      "current url: https://www.etymonline.com/word/imperative\n",
      "pellet\n",
      "current url: https://www.etymonline.com/word/pellet\n"
     ]
    },
    {
     "name": "stderr",
     "output_type": "stream",
     "text": [
      "\r",
      " 67%|██████▋   | 20/30 [00:26<00:13,  1.38s/it]"
     ]
    },
    {
     "name": "stdout",
     "output_type": "stream",
     "text": [
      "current url: https://www.etymonline.com/word/pelt\n",
      "sleep\n"
     ]
    },
    {
     "name": "stderr",
     "output_type": "stream",
     "text": [
      "\r",
      " 70%|███████   | 21/30 [00:27<00:11,  1.23s/it]"
     ]
    },
    {
     "name": "stdout",
     "output_type": "stream",
     "text": [
      "current url: https://www.etymonline.com/word/sleep\n",
      "ore\n"
     ]
    },
    {
     "name": "stderr",
     "output_type": "stream",
     "text": [
      "\r",
      " 73%|███████▎  | 22/30 [00:28<00:08,  1.08s/it]"
     ]
    },
    {
     "name": "stdout",
     "output_type": "stream",
     "text": [
      "current url: https://www.etymonline.com/word/ore\n",
      "terrain\n"
     ]
    },
    {
     "name": "stderr",
     "output_type": "stream",
     "text": [
      "\r",
      " 77%|███████▋  | 23/30 [00:29<00:06,  1.04it/s]"
     ]
    },
    {
     "name": "stdout",
     "output_type": "stream",
     "text": [
      "current url: https://www.etymonline.com/word/terrain\n",
      "unrealistic\n",
      "current url: https://www.etymonline.com/word/unrealistic\n",
      "current url: https://www.etymonline.com/word/realistic\n",
      "current url: https://www.etymonline.com/word/realist\n"
     ]
    },
    {
     "name": "stderr",
     "output_type": "stream",
     "text": [
      "\r",
      " 80%|████████  | 24/30 [00:32<00:11,  1.85s/it]"
     ]
    },
    {
     "name": "stdout",
     "output_type": "stream",
     "text": [
      "current url: https://www.etymonline.com/word/real\n",
      "sleeveless\n",
      "current url: https://www.etymonline.com/word/sleeveless\n"
     ]
    },
    {
     "name": "stderr",
     "output_type": "stream",
     "text": [
      "\r",
      " 83%|████████▎ | 25/30 [00:34<00:08,  1.67s/it]"
     ]
    },
    {
     "name": "stdout",
     "output_type": "stream",
     "text": [
      "current url: https://www.etymonline.com/word/sleeve\n",
      "electorate\n",
      "current url: https://www.etymonline.com/word/electorate\n"
     ]
    },
    {
     "name": "stderr",
     "output_type": "stream",
     "text": [
      "\r",
      " 87%|████████▋ | 26/30 [00:35<00:06,  1.64s/it]"
     ]
    },
    {
     "name": "stdout",
     "output_type": "stream",
     "text": [
      "current url: https://www.etymonline.com/word/elector\n",
      "pivotal\n",
      "current url: https://www.etymonline.com/word/pivotal\n"
     ]
    },
    {
     "name": "stderr",
     "output_type": "stream",
     "text": [
      "\r",
      " 90%|█████████ | 27/30 [00:37<00:04,  1.62s/it]"
     ]
    },
    {
     "name": "stdout",
     "output_type": "stream",
     "text": [
      "current url: https://www.etymonline.com/word/pivot\n",
      "cabinet\n",
      "current url: https://www.etymonline.com/word/cabinet\n"
     ]
    },
    {
     "name": "stderr",
     "output_type": "stream",
     "text": [
      "\r",
      " 93%|█████████▎| 28/30 [00:38<00:03,  1.57s/it]"
     ]
    },
    {
     "name": "stdout",
     "output_type": "stream",
     "text": [
      "current url: https://www.etymonline.com/word/cabin\n",
      "confusion\n"
     ]
    },
    {
     "name": "stderr",
     "output_type": "stream",
     "text": [
      "\r",
      " 97%|█████████▋| 29/30 [00:39<00:01,  1.34s/it]"
     ]
    },
    {
     "name": "stdout",
     "output_type": "stream",
     "text": [
      "current url: https://www.etymonline.com/word/confusion\n",
      "sing\n"
     ]
    },
    {
     "name": "stderr",
     "output_type": "stream",
     "text": [
      "\r",
      "100%|██████████| 30/30 [00:40<00:00,  1.16s/it]"
     ]
    },
    {
     "name": "stdout",
     "output_type": "stream",
     "text": [
      "current url: https://www.etymonline.com/word/sing\n"
     ]
    },
    {
     "name": "stderr",
     "output_type": "stream",
     "text": [
      "\n"
     ]
    }
   ],
   "source": [
    "root_dict = {}\n",
    "for word in tqdm(vocab):\n",
    "    print(word)\n",
    "    try:\n",
    "        roots = get_roots(word)\n",
    "        root_dict[word] = roots\n",
    "    except:\n",
    "        print(f\"Couldn't find word {word}.\")\n",
    "        continue"
   ]
  },
  {
   "cell_type": "code",
   "execution_count": 8,
   "metadata": {},
   "outputs": [
    {
     "name": "stdout",
     "output_type": "stream",
     "text": [
      "Done writing to file word_freq_list_with_roots.txt.\n"
     ]
    },
    {
     "ename": "NameError",
     "evalue": "name 'dirver' is not defined",
     "output_type": "error",
     "traceback": [
      "\u001b[0;31m---------------------------------------------------------------------------\u001b[0m",
      "\u001b[0;31mNameError\u001b[0m                                 Traceback (most recent call last)",
      "\u001b[0;32m<ipython-input-8-becfb67c57d9>\u001b[0m in \u001b[0;36m<module>\u001b[0;34m\u001b[0m\n\u001b[1;32m      5\u001b[0m     \u001b[0mlines\u001b[0m\u001b[0;34m.\u001b[0m\u001b[0mappend\u001b[0m\u001b[0;34m(\u001b[0m\u001b[0mline\u001b[0m\u001b[0;34m)\u001b[0m\u001b[0;34m\u001b[0m\u001b[0;34m\u001b[0m\u001b[0m\n\u001b[1;32m      6\u001b[0m \u001b[0mwrite_lines\u001b[0m\u001b[0;34m(\u001b[0m\u001b[0;34m'word_freq_list_with_roots.txt'\u001b[0m\u001b[0;34m,\u001b[0m \u001b[0mlines\u001b[0m\u001b[0;34m)\u001b[0m\u001b[0;34m\u001b[0m\u001b[0;34m\u001b[0m\u001b[0m\n\u001b[0;32m----> 7\u001b[0;31m \u001b[0mdirver\u001b[0m\u001b[0;34m.\u001b[0m\u001b[0mquit\u001b[0m\u001b[0;34m(\u001b[0m\u001b[0;34m)\u001b[0m\u001b[0;34m\u001b[0m\u001b[0;34m\u001b[0m\u001b[0m\n\u001b[0m",
      "\u001b[0;31mNameError\u001b[0m: name 'dirver' is not defined"
     ]
    }
   ],
   "source": [
    "lines = []\n",
    "for entry in entries:\n",
    "    line = '\\t'.join(\n",
    "        entry + [', '.join(root_dict[entry[1]])])\n",
    "    lines.append(line)\n",
    "write_lines('word_freq_list_with_roots.txt', lines)\n",
    "driver.quit()"
   ]
  }
 ],
 "metadata": {
  "kernelspec": {
   "display_name": "Python 3",
   "language": "python",
   "name": "python3"
  },
  "language_info": {
   "codemirror_mode": {
    "name": "ipython",
    "version": 3
   },
   "file_extension": ".py",
   "mimetype": "text/x-python",
   "name": "python",
   "nbconvert_exporter": "python",
   "pygments_lexer": "ipython3",
   "version": "3.7.2"
  }
 },
 "nbformat": 4,
 "nbformat_minor": 2
}
