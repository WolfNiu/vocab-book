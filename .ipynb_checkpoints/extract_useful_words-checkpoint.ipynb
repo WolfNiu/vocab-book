{
 "cells": [
  {
   "cell_type": "code",
   "execution_count": 1,
   "metadata": {},
   "outputs": [],
   "source": [
    "from util import get_driver, read_lines, write_lines, dump_pickle, load_pickle\n",
    "from pprint import pprint\n",
    "from tqdm import tqdm\n",
    "from collections import OrderedDict\n",
    "import os"
   ]
  },
  {
   "cell_type": "code",
   "execution_count": 2,
   "metadata": {},
   "outputs": [],
   "source": [
    "driver = get_driver(browser='chrome', headless=True)"
   ]
  },
  {
   "cell_type": "code",
   "execution_count": 3,
   "metadata": {},
   "outputs": [
    {
     "name": "stderr",
     "output_type": "stream",
     "text": [
      "100%|██████████| 20200/20200 [00:00<00:00, 357022.21it/s]"
     ]
    },
    {
     "name": "stdout",
     "output_type": "stream",
     "text": [
      "Done reading file roots.txt\n"
     ]
    },
    {
     "name": "stderr",
     "output_type": "stream",
     "text": [
      "\n"
     ]
    }
   ],
   "source": [
    "entries = read_lines('roots.txt')\n",
    "vocab = OrderedDict()\n",
    "for entry in tqdm(entries):\n",
    "    lst = entry.split()\n",
    "    word = lst[1]\n",
    "    # Ignore same word with different pos tag\n",
    "    if word not in vocab:\n",
    "        vocab[word] = [lst[0]] + lst[2:]"
   ]
  },
  {
   "cell_type": "code",
   "execution_count": 4,
   "metadata": {},
   "outputs": [],
   "source": [
    "def get_num_related(word, verbose=False):\n",
    "    driver.get(f'https://www.merriam-webster.com/thesaurus/{word}')\n",
    "    \n",
    "    hwords = driver.find_element_by_xpath(\"//h1[@class='hword']\")\n",
    "    if hword.text != word: # if the word is not the main entry\n",
    "        print(f\"Couldn't find main entry for {word}.\")\n",
    "        print(f\"The main entry shown is {hword.text}\\n\")\n",
    "        return 0\n",
    "    \n",
    "    elems = driver.find_elements_by_xpath(\n",
    "        '//a[starts-with(@href, \"/dictionary/\")]')    \n",
    "    related_words = [\n",
    "        elem.text.strip()\n",
    "        for elem in elems]\n",
    "    \n",
    "    if verbose:\n",
    "        print(len(related_words))\n",
    "        print(related_words[1:-1])\n",
    "    \n",
    "    in_vocab_words = [\n",
    "        related_word\n",
    "        for related_word in set(related_words[1:-1])\n",
    "        if all([(token in vocab) \n",
    "                for token \n",
    "                in related_word.replace('(', '').replace(')', '').split()])]\n",
    "    num_related = len(in_vocab_words)\n",
    "    \n",
    "    if verbose:\n",
    "        print(\"\")\n",
    "        print(num_related)\n",
    "        print(in_vocab_words)\n",
    "    \n",
    "    \n",
    "    return num_related"
   ]
  },
  {
   "cell_type": "code",
   "execution_count": null,
   "metadata": {},
   "outputs": [],
   "source": [
    "intermediate_file = 'intermediate_importance.pkl'\n",
    "if os.path.exists(intermediate_file):\n",
    "    new_vocab = load_pickle(intermediate_file)\n",
    "    print(f\"Loaded intermediate .pkl file with {len(new_vocab)} entries\")\n",
    "else:\n",
    "    new_vocab = OrderedDict()"
   ]
  },
  {
   "cell_type": "code",
   "execution_count": null,
   "metadata": {
    "scrolled": false
   },
   "outputs": [],
   "source": [
    "for i, (word, lst) in tqdm(enumerate(list(vocab.items()))):\n",
    "    if word in new_vocab:\n",
    "        continue\n",
    "    try:\n",
    "        num_related = get_num_related(word)\n",
    "    except:\n",
    "        num_related = -1\n",
    "    new_vocab[word] = [lst[0], str(num_related)] + lst[2:]\n",
    "    \n",
    "    if i % 25 == 0 and i > 0: # store intermediate result every ? iterations\n",
    "        dump_pickle(\"intermediate_importance.pkl\", new_vocab)\n",
    "\n",
    "updated_entries = [\n",
    "    '\\t'.join([k] + v) \n",
    "    for k, v in new_vocab.items()] \n",
    "write_lines('importance.txt', updated_entries)\n",
    "    \n",
    "driver.close()"
   ]
  },
  {
   "cell_type": "code",
   "execution_count": null,
   "metadata": {},
   "outputs": [],
   "source": []
  },
  {
   "cell_type": "code",
   "execution_count": null,
   "metadata": {},
   "outputs": [],
   "source": []
  }
 ],
 "metadata": {
  "kernelspec": {
   "display_name": "Python 3",
   "language": "python",
   "name": "python3"
  },
  "language_info": {
   "codemirror_mode": {
    "name": "ipython",
    "version": 3
   },
   "file_extension": ".py",
   "mimetype": "text/x-python",
   "name": "python",
   "nbconvert_exporter": "python",
   "pygments_lexer": "ipython3",
   "version": "3.7.2"
  }
 },
 "nbformat": 4,
 "nbformat_minor": 2
}
