{
 "cells": [
  {
   "cell_type": "code",
   "execution_count": 10,
   "metadata": {
    "collapsed": true
   },
   "outputs": [],
   "source": [
    "\"\"\"\n",
    "Todo:\n",
    "    • Extract all roots from web/source and rank them. Write book in this ranked order.\n",
    "\"\"\"\n",
    "\n",
    "from bs4 import BeautifulSoup\n",
    "import urllib3\n",
    "import nltk\n",
    "from util import read_lines\n",
    "import re"
   ]
  },
  {
   "cell_type": "code",
   "execution_count": 2,
   "metadata": {
    "collapsed": true
   },
   "outputs": [],
   "source": [
    "word = [\n",
    "    \"*pa-\",\n",
    "]\n",
    "num_words_per_level = 2000"
   ]
  },
  {
   "cell_type": "code",
   "execution_count": 3,
   "metadata": {
    "collapsed": true
   },
   "outputs": [],
   "source": [
    "def get_text(word):\n",
    "    base_url = \"https://www.etymonline.com/word/\"\n",
    "    url = base_url + word\n",
    "    urllib3.disable_warnings(urllib3.exceptions.InsecureRequestWarning)\n",
    "    http = urllib3.PoolManager()\n",
    "    response = http.request('GET', url)\n",
    "    soup = BeautifulSoup(response.data, \"lxml\")\n",
    "    text = soup.get_text(\" \")\n",
    "    \n",
    "    main_entry_str = \"Advertisement\"\n",
    "    main_entry_index = text.find(main_entry_str) + len(main_entry_str) + 1\n",
    "    \n",
    "    if word[0] == \"*\" and word[-1] == \"-\":\n",
    "        end_str = \"See all related words\"\n",
    "    else:\n",
    "        end_str = \"Share Advertisement\"\n",
    "        \n",
    "    start_str = \"Related Entries\"\n",
    "    index = text.find(start_str)\n",
    "    start_index = index + len(start_str) + 1\n",
    "    end_index = text.find(end_str) - 1\n",
    "\n",
    "    main_entry = text[main_entry_index: (index - 1)]\n",
    "    related_words = text[start_index: end_index].split()\n",
    "    \n",
    "    return (main_entry, related_words)"
   ]
  },
  {
   "cell_type": "code",
   "execution_count": 6,
   "metadata": {},
   "outputs": [
    {
     "name": "stdout",
     "output_type": "stream",
     "text": [
      "*pa-  *pā- , Proto-Indo-European root meaning \"to protect, feed.\" \n",
      " \n",
      " It forms all or part of:  antipasto ;  appanage ;  bannock ;  bezoar ;  companion ;  company ;  feed ;  fodder ;  food ;  forage ;  foray ;  foster ;  fur ;  furrier ;  impanate ;  pabulum ;  panatela ;  panic  (n.2) \"type of grass;\"  pannier ;  panocha ;  pantry ;  pastern ;  pastor ;  pasture ;  pester ;  repast ;  satrap .\n",
      " \n",
      " It is the hypothetical source of/evidence for its existence is provided by: Greek  pateisthai  \"to feed;\" Latin  pabulum  \"food, fodder,\"  panis  \"bread,\"  pasci  \"to feed,\"  pascare  \"to graze, pasture, feed,\"  pastor  \"shepherd,\" literally \"feeder;\" Avestan  pitu-  \"food;\" Old Church Slavonic  pasti  \"feed cattle, pasture;\" Russian  pishcha  \"food;\" Old English  foda , Gothic  fodeins  \"food, nourishment.\"\n",
      "\n",
      "['antipasto', 'appanage', 'bannock', 'bezoar', 'companion', 'company', 'feed', 'fodder', 'food', 'forage', 'foray', 'foster', 'fur', 'furrier', 'impanate', 'pabulum', 'panatela', 'panic', 'pannier', 'panocha']\n"
     ]
    }
   ],
   "source": [
    "(main_entry, related_words) = get_text(word[0])\n",
    "\n",
    "print(main_entry)\n",
    "print(\"\")\n",
    "print(related_words)"
   ]
  },
  {
   "cell_type": "code",
   "execution_count": 7,
   "metadata": {},
   "outputs": [
    {
     "name": "stdout",
     "output_type": "stream",
     "text": [
      "Done reading file word_freq_list.txt\n",
      "Done building word dictionary.\n"
     ]
    }
   ],
   "source": [
    "content = read_lines(\"word_freq_list.txt\")\n",
    "word_dict = {}\n",
    "for line in content:\n",
    "    split = line.split(\"\\t\")\n",
    "    assert len(split) == 3\n",
    "    word_dict[split[1]] = (int(split[0]), split[2])\n",
    "print(\"Done building word dictionary.\")"
   ]
  },
  {
   "cell_type": "code",
   "execution_count": 8,
   "metadata": {},
   "outputs": [],
   "source": [
    "vocab = list(word_dict.keys())\n",
    "shared_words = list(set(related_words).intersection(vocab))\n",
    "sorted_words = sorted(\n",
    "    shared_words, key=lambda word: word_dict[word])"
   ]
  },
  {
   "cell_type": "code",
   "execution_count": 17,
   "metadata": {
    "scrolled": false
   },
   "outputs": [
    {
     "name": "stdout",
     "output_type": "stream",
     "text": [
      "*pa-\n",
      "forage (n.) early 14c. (late 13c. as Anglo-Latin  foragium ) \"food for horses and cattle, fodder,\" from Old French  forrage  \"fodder; foraging; pillaging, looting\" (12c., Modern French  fourrage ), from  fuerre  \"hay, straw, bed of straw; forage, fodder\" (Modern French  feurre ), from Frankish  *fodr  \"food\" or a similar Germanic source, from Proto-Germanic  *fodram  (source of Old High German  fuotar , Old English  fodor ; see  fodder ). Meaning \"a roving in search of provisions\" in English is from late 15c. Military  forage cap  attested by 1827. forage (v.) early 15c., \"to plunder, pillage,\" from  forage  (n.) or from Middle French  fourrager . Meaning \"hunt about for\" is from 1768. Related:  Foraged ;  foraging .\n",
      "------------------------------------\n",
      "Level 1:\n",
      "==========\n",
      "company (189, 'n')\n",
      "\n",
      "\n",
      "company (n.) mid-12c., \"large group of people,\" from Old French  compagnie  \"society, friendship, intimacy; body of soldiers\" (12c.), from Late Latin  companio , literally \"bread fellow, messmate,\" from Latin  com  \"with, together\" (see  com- ) +  panis  \"bread,\" from PIE root  *pa-  \"to feed.\" Meaning \"companionship\" is from late 13c. Sense of \"business association\" first recorded 1550s, having earlier been used in reference to trade guilds (c. 1300). Meaning \"subdivision of an infantry regiment\" is from 1580s. Abbreviation  co.  dates from 1670s.\n",
      "\n",
      "['*pa-', 'com-', 'co.']\n",
      "~~~~~~~~~~~~~~~~~~~~~~~~~~~~~~~~~~~~\n",
      "\n",
      "food (367, 'n')\n",
      "\n",
      "\n",
      "food (n.) Middle English  foode ,  fode , from Old English  foda  \"food, nourishment; fuel,\" also figurative, from Proto-Germanic  *fodon  (source also of Swedish  föda , Danish  föde , Gothic  fodeins ), from Germanic  *fod-  \"food,\" from PIE  *pat- , extended form of root  *pa-  \"to feed.\"\n",
      " \n",
      " Food-chain  is by 1915.  Food-poisoning  attested by 1864;  food-processor  in the kitchen appliance sense from 1973;  food-stamp  (n.) is from 1962.\n",
      "\n",
      "['*pa-', 'foodie', 'foodoholic', 'foodstuff', 'seafood']\n",
      "~~~~~~~~~~~~~~~~~~~~~~~~~~~~~~~~~~~~\n",
      "\n",
      "Level 2:\n",
      "==========\n",
      "companion (3586, 'n')\n",
      "\n",
      "\n",
      "companion (n.) c. 1300, from Old French  compagnon  \"fellow, mate, friend, partner\" (12c.), from Late Latin  companionem  (nominative  companio ), literally \"bread fellow, messmate,\" from Latin  com  \"with, together\" (see  com- ) +  panis  \"bread,\" from PIE root  *pa-  \"to feed.\"\n",
      " \n",
      " Found first in 6c. Frankish Lex Salica, and probably a translation of a Germanic word (compare Gothic  gahlaiba  \"messmate,\" from  hlaib  \"loaf of bread\"). Replaced Old English  gefera  \"traveling companion,\" from  faran  \"go, fare.\"\n",
      "\n",
      "['*pa-', 'com-', 'accompany', 'companionable', 'companionship', 'mate']\n",
      "~~~~~~~~~~~~~~~~~~~~~~~~~~~~~~~~~~~~\n",
      "\n",
      "Level 3:\n",
      "==========\n",
      "fur (4751, 'n')\n",
      "\n",
      "\n",
      "fur (n.) late 14c. \"trimming or lining of a garment\" (implied c. 1300 in surname  Furhode  \"fur hood\"), probably from Old French  forrer ,  fourrer  \"cover with fur, line (clothing),\" in general \"to cover, fill with,\" from  fuerre  \"sheath, scabbard\" (via notion of \"covering\"), from Frankish  *fodr  or another Germanic source, from Proto-Germanic  *fodram  \"sheath\" (source also of Old Frisian  foder  \"coat lining,\" Old High German  fotar  \"a lining,\" German  Futter , Gothic  fodr  \"sword sheath\"), from PIE root  *pa-  \"to feed, protect.\"\n",
      " \n",
      " First applied c. 1400 to the hairy pelt of an animal, whether still on the animal or not. The Old French noun might have had the sense \"hide, fur, pelt\" (and thus might serve as the immediate source of the English noun), but this is not attested. Absent this, the sense transfer from the lining to the material that goes to make it probably happened in English. As an adjective from 1590s.\n",
      " I'le make the fur Flie 'bout the eares of the old Cur. [Butler,  \"Hudibras,\"  1663] \n",
      "\n",
      "fur (v.) c. 1300 (implied in  furred ), from  fur  (n.) or Old French  fourrer  \"to line.\" Related:  Furring .\n",
      "\n",
      "['*pa-', 'furrier', 'furry']\n",
      "~~~~~~~~~~~~~~~~~~~~~~~~~~~~~~~~~~~~\n",
      "\n",
      "foster (5122, 'j')\n",
      "\n",
      "\n",
      "foster (v.) Old English  *fostrian  \"to supply with food, nourish, support,\" from  fostor  \"food, nourishment, bringing up,\" from Proto-Germanic  *fostra- , from extended form of PIE root  *pa-  \"to feed.\"\n",
      " \n",
      " Meaning \"to bring up a child with parental care\" is from c. 1200; that of \"to encourage or help grow\" is early 13c. of things; 1560s of feelings, ideas, etc. Old English also had the word as an adjective meaning \"in the same family but not related,\" in  fostorfæder ,  fostorcild ,  fostormodor etc. Related:  Fostered ;  fostering .\n",
      "\n",
      "['*pa-', 'fosterage']\n",
      "~~~~~~~~~~~~~~~~~~~~~~~~~~~~~~~~~~~~\n",
      "\n",
      "Level 4:\n",
      "==========\n",
      "feed (6171, 'n')\n",
      "\n",
      "\n",
      "feed (n.) \"action of feeding,\" 1570s, from  feed  (v.). Meaning \"food for animals\" is first attested 1580s. Meaning \"a sumptuous meal\" is from 1808. Of machinery, \"action of or system for providing raw material\" from 1892. \n",
      "\n",
      "feed (v.) Old English  fedan  \"nourish, give food to, sustain, foster\" (transitive), from Proto-Germanic  *fodjan  (source also of Old Saxon  fodjan , Old Frisian  feda , Dutch  voeden , Old High German  fuotan , Old Norse  foeða , Gothic  fodjan  \"to feed\"), from PIE root  *pa-  \"to feed.\" Intransitive sense \"take food, eat\" is from late 14c. Meaning \"to supply to as food\" is from 1818.\n",
      "\n",
      "['*pa-', 'fed', 'feedback', 'feeder', 'feeding', 'force-feed', 'overfeed', 'spoon-feed', 'underfeed', 'well-fed']\n",
      "~~~~~~~~~~~~~~~~~~~~~~~~~~~~~~~~~~~~\n",
      "\n",
      "panic (6962, 'v')\n",
      "panic (n.1) \"mass terror,\" 1708, from earlier adjective (c. 1600, modifying  fear ,  terror , etc.), from French  panique  (15c.), from Greek  panikon , literally \"pertaining to  Pan ,\" the god of woods and fields, who was the source of mysterious sounds that caused contagious, groundless fear in herds and crowds, or in people in lonely spots.\n",
      " \n",
      " In the sense of \"panic, fright\" the Greek word is short for  panikon deima  \"panic fright,\" from neuter of  Panikos  \"of Pan.\" Meaning \"widespread apprehension about financial matters\" is first recorded 1757.  Panic button  in figurative sense is first recorded 1955, the literal sense apparently is from parachuting.  Panic attack  attested by 1970. panic (n.2) type of grass, early 15c., from Old French  panic  \"Italian millet,\" from Latin  panicum  \"panic grass, kind of millet,\" from  panus  \"ear of millet, a swelling,\" from PIE root  *pa-  \"to feed.\" \n",
      "\n",
      "panic (v.) 1827, \"to afflict with panic,\" from  panic  (n.). Intransitive sense of \"to lose one's head, get into a panic\" is from 1902. Related:  Panicked ;  panicking . \n",
      "\n",
      "['*pa-', 'pan', 'panicky', 'paunch']\n",
      "~~~~~~~~~~~~~~~~~~~~~~~~~~~~~~~~~~~~\n",
      "\n",
      "Level 6:\n",
      "==========\n",
      "foray (10473, 'n')\n",
      "\n",
      "\n",
      "foray (n.) late 14c., \"predatory incursion,\" Scottish, from the verb (14c.), perhaps a back-formation of Middle English  forreyer  \"raider, forager\" (mid-14c.), from Old French  forrier , from  forrer  \"to forage,\" from  forrage  \"fodder; foraging; pillaging, looting\" (see  forage  (n.)). Disused by 18c.; revived by Scott. As a verb from 14c.\n",
      "\n",
      "['*pa-', 'forage']\n",
      "~~~~~~~~~~~~~~~~~~~~~~~~~~~~~~~~~~~~\n",
      "\n",
      "Level 7:\n",
      "==========\n",
      "fodder (13276, 'n')\n",
      "\n",
      "\n",
      "fodder (n.) Old English  fodder  \"food,\" especially \"hay, straw, or other bulk food for cattle,\" from Proto-Germanic  *fodram  (source also of Old Norse  foðr , Middle Dutch  voeder , Old High German  fuotar , German  Futter ), from PIE  *pa-trom , suffixed form of root  *pa-  \"to feed.\"\n",
      "\n",
      "['*pa-', 'bumf', 'forage']\n",
      "~~~~~~~~~~~~~~~~~~~~~~~~~~~~~~~~~~~~\n",
      "\n",
      "Level 9:\n",
      "==========\n",
      "forage (17333, 'n')\n",
      "\n",
      "\n",
      "forage (n.) early 14c. (late 13c. as Anglo-Latin  foragium ) \"food for horses and cattle, fodder,\" from Old French  forrage  \"fodder; foraging; pillaging, looting\" (12c., Modern French  fourrage ), from  fuerre  \"hay, straw, bed of straw; forage, fodder\" (Modern French  feurre ), from Frankish  *fodr  \"food\" or a similar Germanic source, from Proto-Germanic  *fodram  (source of Old High German  fuotar , Old English  fodor ; see  fodder ). Meaning \"a roving in search of provisions\" in English is from late 15c. Military  forage cap  attested by 1827. \n",
      "\n",
      "forage (v.) early 15c., \"to plunder, pillage,\" from  forage  (n.) or from Middle French  fourrager . Meaning \"hunt about for\" is from 1768. Related:  Foraged ;  foraging .\n",
      "\n",
      "['*pa-', 'fodder', 'forager', 'foray']\n",
      "~~~~~~~~~~~~~~~~~~~~~~~~~~~~~~~~~~~~\n",
      "\n"
     ]
    }
   ],
   "source": [
    "print(word[0])\n",
    "print(main_entry)\n",
    "print(\"------------------------------------\")\n",
    "\n",
    "level_count = 0\n",
    "for shared_word in sorted_words:\n",
    "    (entry, related_words) = get_text(shared_word)\n",
    "    level = word_dict[shared_word][0] // num_words_per_level + 1\n",
    "    if level > level_count and level <= 10:\n",
    "        print(\"Level %d:\" % level)\n",
    "        print(\"==========\")\n",
    "        level_count = level\n",
    "\n",
    "    print(shared_word, word_dict[shared_word])\n",
    "\n",
    "    formatted_entry = re.sub(r\"(%s \\([a-z]+\\.[a-z]*\\))\" % shared_word, r\"\\n\\n\\1\", entry)\n",
    "    \n",
    "#     start_indcies = [\n",
    "#         m.start() for m in re.finditer((r\"%s \\([a-z]+\\.[a-z]*\\)\" % shared_word), entry)]\n",
    "#     for start_index in start_indcies[1:]:\n",
    "#         entry[(start_index - 1): start_index] = \"\\n\\n\"\n",
    "\n",
    "    print(formatted_entry)\n",
    "    print(\"\")\n",
    "    print(related_words)\n",
    "    print(\"~~~~~~~~~~~~~~~~~~~~~~~~~~~~~~~~~~~~\")\n",
    "    print(\"\")\n",
    "    "
   ]
  },
  {
   "cell_type": "code",
   "execution_count": null,
   "metadata": {
    "collapsed": true
   },
   "outputs": [],
   "source": []
  }
 ],
 "metadata": {
  "kernelspec": {
   "display_name": "Python 3",
   "language": "python",
   "name": "python3"
  },
  "language_info": {
   "codemirror_mode": {
    "name": "ipython",
    "version": 3
   },
   "file_extension": ".py",
   "mimetype": "text/x-python",
   "name": "python",
   "nbconvert_exporter": "python",
   "pygments_lexer": "ipython3",
   "version": "3.7.2"
  }
 },
 "nbformat": 4,
 "nbformat_minor": 2
}
