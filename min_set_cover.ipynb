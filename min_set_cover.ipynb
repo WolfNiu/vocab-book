{
 "cells": [
  {
   "cell_type": "code",
   "execution_count": 1,
   "metadata": {},
   "outputs": [],
   "source": [
    "\"\"\"\n",
    "Credit: \n",
    "    Min-set-cover solver: https://gist.github.com/marekyggdrasil/a8e63be8e34e000f2507bdb5e0755dda\n",
    "\"\"\"\n",
    "\n",
    "from util import read_lines, write_lines\n",
    "from nltk import FreqDist\n",
    "from collections import defaultdict\n",
    "from dlx import DLX"
   ]
  },
  {
   "cell_type": "code",
   "execution_count": 2,
   "metadata": {
    "scrolled": true
   },
   "outputs": [
    {
     "name": "stdout",
     "output_type": "stream",
     "text": [
      "Done reading file word_freq_list_with_roots.txt\n",
      "Total number of lines left: 27\n"
     ]
    }
   ],
   "source": [
    "lines = read_lines(\"word_freq_list_with_roots.txt\")\n",
    "\n",
    "all_roots = []\n",
    "entries = []\n",
    "roots_set = set()\n",
    "for line in lines[:100]:\n",
    "    split = line.split('\\t')\n",
    "    if len(split) == 4: # only keep words that actually have roots\n",
    "        roots = split[-1].split(', ')\n",
    "        if tuple(roots) in roots_set:\n",
    "            continue # since we're only interested in root cover\n",
    "        else:\n",
    "            roots_set.add(tuple(roots))\n",
    "        all_roots.extend(roots)\n",
    "        split[-1] = roots\n",
    "        entries.append(split)\n",
    "        \n",
    "print('Total number of lines left:', len(entries))\n",
    "\n",
    "dist = dict(FreqDist(all_roots).most_common())\n",
    "vocab_roots = list(dist.keys())\n",
    "root2idx = {root: idx for idx, root in enumerate(vocab_roots)}\n",
    "\n",
    "root2entries = defaultdict(list)\n",
    "for entry in entries:\n",
    "    roots = entry[-1]\n",
    "    for root in roots:\n",
    "        root2entries[root].append(entry)\n",
    "\n",
    "# for root in dist:\n",
    "#     print(root)\n",
    "#     print(\"\")\n",
    "#     print(root2entries[root])\n",
    "#     input(\"wait\")"
   ]
  },
  {
   "cell_type": "code",
   "execution_count": 3,
   "metadata": {},
   "outputs": [],
   "source": [
    "def genInstance(labels, rows) :\n",
    "    columns = []\n",
    "    indices_l = {}\n",
    "    for i in range(len(labels)) :\n",
    "        label = labels[i]\n",
    "        indices_l[label] = i\n",
    "        columns.append(tuple([label,0]))\n",
    "    return labels, rows, columns, indices_l\n",
    "\n",
    "def solveInstance(instance) :\n",
    "    labels, rows, columns, indices_l = instance\n",
    "    instance = DLX(columns)\n",
    "    indices = {}\n",
    "    for l, i in zip(rows, range(len(rows))) :\n",
    "        h = instance.appendRow(l, 'r'+str(i))\n",
    "        indices[str(hash(tuple(sorted(l))))] = i\n",
    "    sol = instance.solve()\n",
    "    lst = list(sol)\n",
    "    selected = []\n",
    "    for i in lst[0] :\n",
    "        l = instance.getRowList(i)\n",
    "        l2 = [indices_l[label] for label in l]\n",
    "        idx = indices[str(hash(tuple(sorted(l2))))]\n",
    "        selected.append(idx)\n",
    "    return selected\n",
    "\n",
    "def printColumnsPerRow(instance, selected) :\n",
    "    labels, rows, columns, indices_l = instance\n",
    "    print('covered columns per selected row')\n",
    "    for s in selected :\n",
    "        A = []\n",
    "        for z in rows[s-1] :\n",
    "            c, _ = columns[z]\n",
    "            A.append(c)\n",
    "        print(s, A)\n",
    "\n",
    "def printInstance(instance) :\n",
    "    labels, rows, columns, indices_l = instance\n",
    "    print('columns')\n",
    "    print(labels)\n",
    "    print('rows')\n",
    "    print(rows)"
   ]
  },
  {
   "cell_type": "code",
   "execution_count": 4,
   "metadata": {},
   "outputs": [],
   "source": [
    "labels = vocab_roots\n",
    "# Empty lists are fine\n",
    "rows = [\n",
    "    [root2idx[root] \n",
    "     for root in entry[-1]]\n",
    "    for entry in entries]"
   ]
  },
  {
   "cell_type": "code",
   "execution_count": 5,
   "metadata": {
    "scrolled": true
   },
   "outputs": [],
   "source": [
    "# labels = ['A', 'B', 'C', 'D', 'E', 'F', 'G']\n",
    "# rows = [[],[0,3,6],[0,3],[3,4,6],[2,4,5],[1,2,5,6],[1,6]]\n",
    "instance = genInstance(labels, rows)\n",
    "selected = solveInstance(instance)\n",
    "# printInstance(instance)\n",
    "# printColumnsPerRow(instance, selected)"
   ]
  },
  {
   "cell_type": "code",
   "execution_count": 6,
   "metadata": {},
   "outputs": [],
   "source": [
    "def to_str(entry):\n",
    "    str_entry = '\\t'.join(entry[:(-1)])\n",
    "    if entry[-1] == []:\n",
    "        return str_entry\n",
    "    else:\n",
    "        str_roots = ', '.join(entry[-1])\n",
    "        return f'{str_entry}\\t{str_roots}'"
   ]
  },
  {
   "cell_type": "code",
   "execution_count": 7,
   "metadata": {},
   "outputs": [
    {
     "name": "stdout",
     "output_type": "stream",
     "text": [
      "26\n",
      "Done writing to file selected_entries.txt.\n"
     ]
    }
   ],
   "source": [
    "print('Number of selected entries for min-set-cover', len(selected))\n",
    "selected_entries = [entries[i] for i in selected]\n",
    "selected_entries.sort(key=lambda x: int(x[0]))\n",
    "str_selected_entries = list(map(to_str, selected_entries))\n",
    "\n",
    "write_lines(\"selected_entries.txt\", str_selected_entries)"
   ]
  },
  {
   "cell_type": "code",
   "execution_count": 8,
   "metadata": {},
   "outputs": [
    {
     "name": "stdout",
     "output_type": "stream",
     "text": [
      "2\tbe\tv\t*bheue-\r\n",
      "4\tof\ti\t*apo-\r\n",
      "5\ta\ta\t*oi-no-\r\n",
      "8\thave\tv\t*kap-\r\n",
      "10\tit\tp\t*ko-\r\n",
      "13\tfor\ti\t*per-\r\n",
      "18\tdo\tv\t*dhe-\r\n",
      "22\tat\ti\t*ad-\r\n",
      "23\tbut\tc\t*ambhi-\r\n",
      "34\twhat\td\t*kwo-\r\n",
      "37\tcan\tv\t*gno-\r\n",
      "39\tget\tv\t*ghend-\r\n",
      "45\tmake\tv\t*mag-\r\n",
      "52\ttime\tn\t*da-\r\n",
      "60\tsome\td\t*sem-\r\n",
      "67\tsee\tv\t*sed-\r\n",
      "70\tcome\tv\t*gwa-\r\n",
      "75\tother\tj\t*al-\r\n",
      "80\ttwo\tm\t*dwo-\r\n",
      "83\twant\tv\t*eue-\r\n",
      "84\tway\tn\t*wegh-\r\n",
      "90\tday\tn\t*agh-, *dyeu-\r\n",
      "93\tno\ta\t*aiw-, *ne-\r\n",
      "94\tman\tn\t*man-, *men-, *ner-, *wi-ro-\r\n",
      "98\tgive\tv\t*ghabh-\r\n",
      "100\twell\tr\t*wel-\r\n"
     ]
    }
   ],
   "source": [
    "# !cat selected_entries.txt"
   ]
  },
  {
   "cell_type": "code",
   "execution_count": 9,
   "metadata": {},
   "outputs": [
    {
     "data": {
      "text/plain": [
       "['2\\tbe\\tv\\t*bheue-',\n",
       " '4\\tof\\ti\\t*apo-',\n",
       " '5\\ta\\ta\\t*oi-no-',\n",
       " '8\\thave\\tv\\t*kap-',\n",
       " '10\\tit\\tp\\t*ko-',\n",
       " '13\\tfor\\ti\\t*per-',\n",
       " '18\\tdo\\tv\\t*dhe-',\n",
       " '22\\tat\\ti\\t*ad-',\n",
       " '23\\tbut\\tc\\t*ambhi-',\n",
       " '28\\tnot\\tx\\t*ne-',\n",
       " '34\\twhat\\td\\t*kwo-',\n",
       " '37\\tcan\\tv\\t*gno-',\n",
       " '39\\tget\\tv\\t*ghend-',\n",
       " '45\\tmake\\tv\\t*mag-',\n",
       " '52\\ttime\\tn\\t*da-',\n",
       " '60\\tsome\\td\\t*sem-',\n",
       " '67\\tsee\\tv\\t*sed-',\n",
       " '70\\tcome\\tv\\t*gwa-',\n",
       " '75\\tother\\tj\\t*al-',\n",
       " '80\\ttwo\\tm\\t*dwo-',\n",
       " '83\\twant\\tv\\t*eue-',\n",
       " '84\\tway\\tn\\t*wegh-',\n",
       " '90\\tday\\tn\\t*agh-, *dyeu-',\n",
       " '93\\tno\\ta\\t*aiw-, *ne-',\n",
       " '94\\tman\\tn\\t*man-, *men-, *ner-, *wi-ro-',\n",
       " '98\\tgive\\tv\\t*ghabh-',\n",
       " '100\\twell\\tr\\t*wel-']"
      ]
     },
     "execution_count": 9,
     "metadata": {},
     "output_type": "execute_result"
    }
   ],
   "source": [
    "# list(map(to_str, entries))"
   ]
  },
  {
   "cell_type": "code",
   "execution_count": null,
   "metadata": {},
   "outputs": [],
   "source": []
  }
 ],
 "metadata": {
  "kernelspec": {
   "display_name": "Python 3",
   "language": "python",
   "name": "python3"
  },
  "language_info": {
   "codemirror_mode": {
    "name": "ipython",
    "version": 3
   },
   "file_extension": ".py",
   "mimetype": "text/x-python",
   "name": "python",
   "nbconvert_exporter": "python",
   "pygments_lexer": "ipython3",
   "version": "3.7.2"
  }
 },
 "nbformat": 4,
 "nbformat_minor": 2
}
