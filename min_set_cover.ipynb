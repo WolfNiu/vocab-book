{
 "cells": [
  {
   "cell_type": "code",
   "execution_count": 1,
   "metadata": {},
   "outputs": [],
   "source": [
    "\"\"\"\n",
    "Credit: \n",
    "    Min-set-cover solver: https://gist.github.com/marekyggdrasil/a8e63be8e34e000f2507bdb5e0755dda\n",
    "\"\"\"\n",
    "\n",
    "# from util import read_lines, write_lines\n",
    "from nltk import FreqDist\n",
    "from collections import defaultdict\n",
    "from dlx import DLX\n",
    "import random"
   ]
  },
  {
   "cell_type": "code",
   "execution_count": 2,
   "metadata": {},
   "outputs": [],
   "source": [
    "def read_lines(filename):\n",
    "    \"\"\"\n",
    "    Load a file line by line into a list\n",
    "    \"\"\"\n",
    "    with open(filename, 'r') as fp:\n",
    "        lines = fp.readlines()\n",
    "    print(\"Done reading file\", filename)\n",
    "    \n",
    "    return [line.strip() for line in lines]\n",
    "\n",
    "def write_lines(filename, lines):\n",
    "    \"\"\"\n",
    "    Write a list to a file line by line \n",
    "    \"\"\"\n",
    "    with open(filename, 'w', encoding=\"utf-8\") as fp:\n",
    "        for line in lines:\n",
    "            print(line, file=fp)\n",
    "    print(\"Done writing to file %s.\" % filename)"
   ]
  },
  {
   "cell_type": "code",
   "execution_count": 3,
   "metadata": {
    "scrolled": true
   },
   "outputs": [
    {
     "name": "stdout",
     "output_type": "stream",
     "text": [
      "Done reading file word_freq_list_with_roots.txt\n",
      "Total number of lines left: 549\n"
     ]
    }
   ],
   "source": [
    "lines = read_lines(\"word_freq_list_with_roots.txt\")\n",
    "\n",
    "all_roots = []\n",
    "entries = []\n",
    "roots_set = set()\n",
    "for line in lines:\n",
    "# for line in random.sample(lines, 150):\n",
    "    split = line.split('\\t')\n",
    "    if len(split) == 4: # only keep words that actually have roots\n",
    "        roots = split[-1].split(', ')\n",
    "        if tuple(roots) in roots_set:\n",
    "            continue # since we're only interested in root cover\n",
    "        else:\n",
    "            roots_set.add(tuple(roots))\n",
    "        all_roots.extend(roots)\n",
    "        split[-1] = roots\n",
    "        entries.append(split)\n",
    "        \n",
    "print('Total number of lines left:', len(entries))\n",
    "\n",
    "dist = dict(FreqDist(all_roots).most_common())\n",
    "vocab_roots = list(dist.keys())\n",
    "root2idx = {root: idx for idx, root in enumerate(vocab_roots)}\n",
    "\n",
    "root2entries = defaultdict(list)\n",
    "for entry in entries:\n",
    "    roots = entry[-1]\n",
    "    for root in roots:\n",
    "        root2entries[root].append(entry)\n",
    "\n",
    "# for root in dist:\n",
    "#     print(root)\n",
    "#     print(\"\")\n",
    "#     print(root2entries[root])\n",
    "#     input(\"wait\")"
   ]
  },
  {
   "cell_type": "code",
   "execution_count": null,
   "metadata": {},
   "outputs": [],
   "source": [
    "def to_str(entry):\n",
    "    str_entry = '\\t'.join(entry[:(-1)])\n",
    "    if entry[-1] == []:\n",
    "        return str_entry\n",
    "    else:\n",
    "        str_roots = ', '.join(entry[-1])\n",
    "        return f'{str_entry}\\t{str_roots}'"
   ]
  },
  {
   "cell_type": "code",
   "execution_count": null,
   "metadata": {},
   "outputs": [],
   "source": [
    "def solve(X, Y, solution=[]):\n",
    "    if not X:\n",
    "        yield list(solution)\n",
    "    else:\n",
    "        c = min(X, key=lambda c: len(X[c]))\n",
    "        for r in list(X[c]):\n",
    "            solution.append(r)\n",
    "            cols = select(X, Y, r)\n",
    "            for s in solve(X, Y, solution):\n",
    "                yield s\n",
    "            deselect(X, Y, r, cols)\n",
    "            solution.pop()\n",
    "\n",
    "def select(X, Y, r):\n",
    "    cols = []\n",
    "    for j in Y[r]:\n",
    "        for i in X[j]:\n",
    "            for k in Y[i]:\n",
    "                if k != j:\n",
    "                    X[k].remove(i)\n",
    "        cols.append(X.pop(j))\n",
    "    return cols\n",
    "\n",
    "def deselect(X, Y, r, cols):\n",
    "    for j in reversed(Y[r]):\n",
    "        X[j] = cols.pop()\n",
    "        for i in X[j]:\n",
    "            for k in Y[i]:\n",
    "                if k != j:\n",
    "                    X[k].add(i)"
   ]
  },
  {
   "cell_type": "code",
   "execution_count": null,
   "metadata": {},
   "outputs": [],
   "source": [
    "indices = list(range(len(vocab_roots)))\n",
    "# Empty lists are fine\n",
    "rows = [\n",
    "    [root2idx[root] \n",
    "     for root in entry[-1]]\n",
    "    for entry in entries]\n",
    "Y = {i: row for i, row in enumerate(rows)}\n",
    "X = {j: set() for j in indices}\n",
    "for i in Y:\n",
    "    for j in Y[i]:\n",
    "        X[j].add(i)\n",
    "\n",
    "selected = list(solve(X, Y))[0]"
   ]
  },
  {
   "cell_type": "code",
   "execution_count": null,
   "metadata": {},
   "outputs": [],
   "source": [
    "print(f'Number of selected entries for min-set-cover: {len(selected)}/{len(entries)}')\n",
    "selected_entries = [entries[i] for i in selected]\n",
    "selected_entries.sort(key=lambda x: int(x[0]))\n",
    "str_selected_entries = list(map(to_str, selected_entries))\n",
    "\n",
    "write_lines(\"selected_entries.txt\", str_selected_entries)"
   ]
  },
  {
   "cell_type": "code",
   "execution_count": null,
   "metadata": {},
   "outputs": [],
   "source": [
    "!cat selected_entries.txt"
   ]
  },
  {
   "cell_type": "code",
   "execution_count": null,
   "metadata": {},
   "outputs": [],
   "source": [
    "# def genInstance(labels, rows) :\n",
    "#     columns = []\n",
    "#     indices_l = {}\n",
    "#     for i in range(len(labels)) :\n",
    "#         label = labels[i]\n",
    "#         indices_l[label] = i\n",
    "#         columns.append(tuple([label,0]))\n",
    "#     return labels, rows, columns, indices_l\n",
    "\n",
    "# def solveInstance(instance) :\n",
    "#     labels, rows, columns, indices_l = instance\n",
    "#     instance = DLX(columns)\n",
    "#     indices = {}\n",
    "#     for l, i in zip(rows, range(len(rows))) :\n",
    "#         h = instance.appendRow(l, 'r'+str(i))\n",
    "#         indices[str(hash(tuple(sorted(l))))] = i\n",
    "#     sol = instance.solve()\n",
    "#     lst = list(sol)\n",
    "#     selected = []\n",
    "#     for i in lst[0] :\n",
    "#         l = instance.getRowList(i)\n",
    "#         l2 = [indices_l[label] for label in l]\n",
    "#         idx = indices[str(hash(tuple(sorted(l2))))]\n",
    "#         selected.append(idx)\n",
    "#     return selected\n",
    "\n",
    "# def printColumnsPerRow(instance, selected) :\n",
    "#     labels, rows, columns, indices_l = instance\n",
    "#     print('covered columns per selected row')\n",
    "#     for s in selected :\n",
    "#         A = []\n",
    "#         for z in rows[s-1] :\n",
    "#             c, _ = columns[z]\n",
    "#             A.append(c)\n",
    "#         print(s, A)\n",
    "\n",
    "# def printInstance(instance) :\n",
    "#     labels, rows, columns, indices_l = instance\n",
    "#     print('columns')\n",
    "#     print(labels)\n",
    "#     print('rows')\n",
    "#     print(rows)"
   ]
  },
  {
   "cell_type": "code",
   "execution_count": null,
   "metadata": {},
   "outputs": [],
   "source": [
    "# labels = ['A', 'B', 'C', 'D', 'E', 'F', 'G']\n",
    "# rows = [[],[0,3,6],[0,3],[3,4,6],[2,4,5],[1,2,5,6],[1,6]]\n",
    "# instance = genInstance(labels, rows)\n",
    "# selected = solveInstance(instance)\n",
    "# printInstance(instance)\n",
    "# printColumnsPerRow(instance, selected)"
   ]
  }
 ],
 "metadata": {
  "kernelspec": {
   "display_name": "Python 3",
   "language": "python",
   "name": "python3"
  },
  "language_info": {
   "codemirror_mode": {
    "name": "ipython",
    "version": 3
   },
   "file_extension": ".py",
   "mimetype": "text/x-python",
   "name": "python",
   "nbconvert_exporter": "python",
   "pygments_lexer": "ipython3",
   "version": "3.7.2"
  }
 },
 "nbformat": 4,
 "nbformat_minor": 2
}
